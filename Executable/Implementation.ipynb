{
 "cells": [
  {
   "cell_type": "markdown",
   "metadata": {},
   "source": [
    "# Setup (imports, constants, etc.)"
   ]
  },
  {
   "cell_type": "markdown",
   "metadata": {},
   "source": [
    "See scikit-learn [FAQ][1] for multiprocessing issue info fixed below:\n",
    "\n",
    "[1]:http://scikit-learn.org/stable/faq.html#why-do-i-sometime-get-a-crash-freeze-with-n-jobs-1-under-osx-or-linux"
   ]
  },
  {
   "cell_type": "code",
   "execution_count": 1,
   "metadata": {
    "collapsed": true
   },
   "outputs": [],
   "source": [
    "import multiprocessing\n",
    "import os\n",
    "\n",
    "start_method = 'forkserver'\n",
    "try:\n",
    "    multiprocessing.set_start_method(start_method)\n",
    "except RuntimeError as e:\n",
    "    if str(e) != 'context has already been set':\n",
    "        raise e\n",
    "    elif multiprocessing.get_start_method() != start_method:\n",
    "        raise RuntimeWarning(\n",
    "            'Multiprocessing start_method {} was not set.'\n",
    "            .format(start_method)\n",
    "        )\n",
    "\n",
    "N_JOBS = -1  # for sklearn\n",
    "NTHREAD = 8  # for xgboost"
   ]
  },
  {
   "cell_type": "code",
   "execution_count": 2,
   "metadata": {},
   "outputs": [
    {
     "name": "stderr",
     "output_type": "stream",
     "text": [
      "/Users/mdlynch37/anaconda3/envs/rental-interest/lib/python3.5/site-packages/sklearn/cross_validation.py:44: DeprecationWarning: This module was deprecated in version 0.18 in favor of the model_selection module into which all the refactored classes and functions are moved. Also note that the interface of the new CV iterators are different from that of this module. This module will be removed in 0.20.\n",
      "  \"This module will be removed in 0.20.\", DeprecationWarning)\n"
     ]
    }
   ],
   "source": [
    "import glob\n",
    "import time\n",
    "\n",
    "import pandas as pd\n",
    "import numpy as np\n",
    "import matplotlib.pyplot as plt\n",
    "import xgboost as xgb\n",
    "from sklearn.model_selection import train_test_split\n",
    "from sklearn.pipeline import FeatureUnion, Pipeline\n",
    "from sklearn.model_selection import GridSearchCV\n",
    "from sklearn.metrics import log_loss\n",
    "from scipy import stats\n",
    "from IPython.display import Image, display\n",
    "from xgboost import XGBClassifier\n",
    "from sklearn.metrics import make_scorer\n",
    "from sklearn.model_selection import cross_val_score\n",
    "from sklearn.externals import joblib\n",
    "from sklearn.calibration import CalibratedClassifierCV, calibration_curve\n",
    "from sklearn.preprocessing import LabelBinarizer, StandardScaler\n",
    "from sklearn.linear_model import LogisticRegression\n",
    "\n",
    "from main import save_submission, read_rental_interest, to_min_secs\n",
    "from validation_plots import (\n",
    "    GridSearchExplorer, best_grid_score, plot_learning_curve,\n",
    "    best_xgb_cv_score, plot_xgb_boosting_curve\n",
    ")\n",
    "from preprocessing import (\n",
    "    ItemSelector, LatLongImputer, BedBathImputer, feature_prep\n",
    ")\n",
    "\n",
    "%matplotlib inline\n",
    "\n",
    "# Autoreload all imported modules at each execution.\n",
    "%load_ext autoreload\n",
    "%autoreload 2\n",
    "\n",
    "pd.set_option('display.float_format', lambda x: '%.4f' % x)\n",
    "\n",
    "SEED = 42\n",
    "np.random.seed(SEED)\n",
    "\n",
    "DAT_DIR = '../Data/'\n",
    "SUBM_DIR = '../Leaderboard-Submissions/'\n",
    "TEST_DIR = '../Tests/'\n",
    "REPORT_IMG_DIR = '../Report-Images/'\n",
    "TPOT_DIR = './TPOT/'\n",
    "MODEL_DIR = './Models/'\n",
    "\n",
    "TRAIN_FP = ''.join([DAT_DIR, 'train.json'])\n",
    "TEST_FP = ''.join([DAT_DIR, 'test.json'])\n",
    "SAMPLE_FP = ''.join([DAT_DIR, 'sample_submission.csv'])\n",
    "DF_TRAIN_PKL = ''.join([DAT_DIR, 'df_train.pkl'])\n",
    "DF_TEST_PKL = ''.join([DAT_DIR, 'df_test.pkl'])\n",
    "\n",
    "SPOT_CHECK_LR_FP = ''.join([MODEL_DIR, 'spot-check-lr-model.pkl'])\n",
    "SPOT_CHECK_XGB_FP = ''.join([MODEL_DIR, 'spot-check-xgb-model.pkl'])\n",
    "\n",
    "GRID_S2_FP = ''.join([MODEL_DIR, 'grid_s2.pkl'])\n",
    "GRID_S3_FP = ''.join([MODEL_DIR, 'grid_s3.pkl'])\n",
    "GRID_S4_FP = ''.join([MODEL_DIR, 'grid_s4.pkl'])\n",
    "GRID_S5_FP = ''.join([MODEL_DIR, 'grid_s5.pkl'])\n",
    "GRID_FREE_FORM_FP = ''.join([MODEL_DIR, 'grid_free_form.pkl'])\n",
    "FINAL_MODEL_FP = ''.join([MODEL_DIR, 'final-xgb-model.pkl'])\n",
    "\n",
    "# Using built-in 'neg_log_loss' scoring param used for simplicity\n",
    "# Source code shows exact same make_scorer call, kept for reference\n",
    "scorer = make_scorer(log_loss, greater_is_better=False,\n",
    "                     needs_proba=True)\n",
    "\n",
    "scoring = 'neg_log_loss'\n",
    "\n",
    "df = read_rental_interest(DF_TRAIN_PKL)\n",
    "df_te = read_rental_interest(DF_TEST_PKL)\n",
    "\n",
    "if DF_TRAIN_PKL not in glob.glob(DAT_DIR+'*'):\n",
    "    dump_pickle(df, DF_TRAIN_PKL)\n",
    "if DF_TEST_PKL not in glob.glob(DAT_DIR+'*'):\n",
    "    dump_pickle(df_te, DF_TEST_PKL)"
   ]
  },
  {
   "cell_type": "markdown",
   "metadata": {},
   "source": [
    "# Benchmark"
   ]
  },
  {
   "cell_type": "code",
   "execution_count": 3,
   "metadata": {},
   "outputs": [
    {
     "name": "stdout",
     "output_type": "stream",
     "text": [
      "benchmark score: 0.7886\n"
     ]
    }
   ],
   "source": [
    "df = read_rental_interest(DF_TRAIN_PKL)\n",
    "y = LabelBinarizer().fit_transform(df.interest_level)\n",
    "\n",
    "avg_probs = (np.sum(y, axis=0)/len(y)).tolist()\n",
    "baseline_pred = np.array(avg_probs*len(y)).reshape(-1, 3)\n",
    "baseline_score = log_loss(y, baseline_pred)\n",
    "print('benchmark score: {:.4f}'.format(baseline_score))"
   ]
  },
  {
   "cell_type": "markdown",
   "metadata": {},
   "source": [
    "Output:\n",
    "```\n",
    "benchmark score: 0.7886\n",
    "```"
   ]
  },
  {
   "cell_type": "markdown",
   "metadata": {},
   "source": [
    "# Spot-Check\n",
    "\n",
    "Basic features:\n",
    "- Price (logged), Bedrooms, Bathrooms, Latitude, Longitude\n",
    "- Binarized day created (Monday, Tuesday, etc.)\n",
    "- Number of photos, features and description word count\n",
    "- Indicator variables for zero values of counts above (ignored by XGBoost)"
   ]
  },
  {
   "cell_type": "code",
   "execution_count": 4,
   "metadata": {
    "collapsed": true
   },
   "outputs": [],
   "source": [
    "features = [\n",
    "    'price_lg', 'bedrooms', 'bathrooms', 'latitude', 'longitude',\n",
    "    'n_photos_sq', 'n_feats_sq', 'descr_wcnt_sq',  # count aggregates\n",
    "    'day_mon', 'day_tue', 'day_wed', 'day_thu',    # day dummies\n",
    "    'day_fri', 'day_sat', 'day_sun',\n",
    "]\n",
    "\n",
    "df = read_rental_interest(DF_TRAIN_PKL)\n",
    "\n",
    "X, y = df.drop('interest_level', axis=1), df.interest_level\n",
    "\n",
    "X_prepped_noimp = feature_prep(X).loc[:, features]\n",
    "\n",
    "X_train_noimp, X_test_noimp, y_train_noimp, y_test_noimp = train_test_split(\n",
    "    X_prepped_noimp, y, random_state=SEED, stratify=y, test_size=.25,\n",
    ")\n",
    "\n",
    "# labels are reduced by one to match num_label format in xgb\n",
    "dtrain_noimp = xgb.DMatrix(X_train_noimp, y_train_noimp-1,\n",
    "                           feature_names=features)\n",
    "dtest_noimp  = xgb.DMatrix(X_test_noimp, y_test_noimp-1,\n",
    "                           feature_names=features)"
   ]
  },
  {
   "cell_type": "markdown",
   "metadata": {
    "heading_collapsed": true
   },
   "source": [
    "## Logistic Regression  Spot Check"
   ]
  },
  {
   "cell_type": "code",
   "execution_count": 5,
   "metadata": {
    "hidden": true
   },
   "outputs": [
    {
     "name": "stdout",
     "output_type": "stream",
     "text": [
      "12 s ± 0 ns per loop (mean ± std. dev. of 1 run, 1 loop each)\n",
      "\n",
      "Best grid CV score: -0.7003 ± 0.0039 (mean ± std. dev.)\n",
      "Train score:        -0.6984 ± 0.0010 (mean ± std. dev.)\n",
      "\n",
      "*** For parameters: ***\n",
      "lr_spot__C=0.1\n",
      "\n",
      "7.39 s ± 0 ns per loop (mean ± std. dev. of 1 run, 1 loop each)\n"
     ]
    },
    {
     "data": {
      "image/png": "[encoded data removed]",
      "text/plain": [
       "<matplotlib.figure.Figure at 0x10f245470>"
      ]
     },
     "metadata": {
      "image/png": {
       "height": 277,
       "width": 404
      }
     },
     "output_type": "display_data"
    }
   ],
   "source": [
    "fp = ''.join([REPORT_IMG_DIR, 'spchk-lr-learning-curve.png'])\n",
    "\n",
    "RUN_LR = True\n",
    "\n",
    "if RUN_LR:\n",
    "\n",
    "    lr_spot = LogisticRegression(multi_class='multinomial', solver='lbfgs',\n",
    "                                 n_jobs=1, random_state=SEED)\n",
    "\n",
    "    pipe = Pipeline([\n",
    "        ('standardize', StandardScaler()),\n",
    "        ('lr_spot', lr_spot)\n",
    "    ])\n",
    "\n",
    "    params = dict(\n",
    "        lr_spot__C=np.logspace(-4, 4, 9),\n",
    "    )\n",
    "    grid = GridSearchCV(pipe, params, n_jobs=N_JOBS, scoring=scoring, cv=5)\n",
    "\n",
    "    %timeit -r1 -n1 grid.fit(X_train_noimp, y_train_noimp)\n",
    "\n",
    "    print()\n",
    "    print(best_grid_score(grid))\n",
    "    print()\n",
    "\n",
    "    lr_spot = grid.best_estimator_\n",
    "\n",
    "    # kwargs so %timeit works with multiline arguments\n",
    "    kwargs = dict(estimator=lr_spot, X=X_train_noimp, y=y_train_noimp,\n",
    "                  estimator_name='LogisticRegression - Spot Check',\n",
    "                  scoring=scoring, n_jobs=N_JOBS)\n",
    "\n",
    "    %timeit -r1 -n1 plot_learning_curve(**kwargs)\n",
    "    \n",
    "#     joblib.dump(lr_spot, SPOT_CHECK_LR_FP)\n",
    "#     print()\n",
    "#     print('Pickled to: {}'.format(SPOT_CHECK_LR_FP))\n",
    "\n",
    "    # plt.savefig(fp, dpi=300, bbox_inches='tight')\n",
    "    \n",
    "else:\n",
    "    lr_spot = joblib.load(SPOT_CHECK_LR_FP)\n",
    "    print('Loaded: {}'.format(SPOT_CHECK_LR_FP))\n",
    "    \n",
    "    display(Image(fp, width=500))"
   ]
  },
  {
   "cell_type": "markdown",
   "metadata": {
    "hidden": true
   },
   "source": [
    "Output:\n",
    "```\n",
    "8.03 s ± 0 ns per loop (mean ± std. dev. of 1 run, 1 loop each)\n",
    "\n",
    "Best grid CV score: -0.7003 ± 0.0039 (mean ± std. dev.)\n",
    "Train score:        -0.6984 ± 0.0010 (mean ± std. dev.)\n",
    "\n",
    "*** For parameters: ***\n",
    "lr_spot__C=0.1\n",
    "\n",
    "4.98 s ± 0 ns per loop (mean ± std. dev. of 1 run, 1 loop each)\n",
    "\n",
    "Pickled to: ./Models/spot-check-lr-model.pkl\n",
    "```"
   ]
  },
  {
   "cell_type": "markdown",
   "metadata": {
    "heading_collapsed": true
   },
   "source": [
    "## XGBoost Spot Check"
   ]
  },
  {
   "cell_type": "code",
   "execution_count": null,
   "metadata": {
    "cell_style": "center",
    "hidden": true
   },
   "outputs": [
    {
     "name": "stdout",
     "output_type": "stream",
     "text": [
      "[0]\ttrain-mlogloss:1.08977+3.81779e-05\ttest-mlogloss:1.08988+2.51396e-05\n",
      "[50]\ttrain-mlogloss:0.82646+0.000545354\ttest-mlogloss:0.831485+0.000109704\n",
      "[100]\ttrain-mlogloss:0.72548+0.000635805\ttest-mlogloss:0.734675+0.000631148\n",
      "[150]\ttrain-mlogloss:0.680121+0.000455092\ttest-mlogloss:0.692991+0.00130184\n",
      "[200]\ttrain-mlogloss:0.656303+0.000779302\ttest-mlogloss:0.672768+0.0013242\n",
      "[250]\ttrain-mlogloss:0.641515+0.000785868\ttest-mlogloss:0.66143+0.00132158\n",
      "[300]\ttrain-mlogloss:0.628827+0.000646174\ttest-mlogloss:0.652764+0.00149989\n",
      "[350]\ttrain-mlogloss:0.618318+0.000704815\ttest-mlogloss:0.646184+0.0016027\n",
      "[400]\ttrain-mlogloss:0.610148+0.00076849\ttest-mlogloss:0.641568+0.00183207\n",
      "[450]\ttrain-mlogloss:0.60316+0.000684012\ttest-mlogloss:0.63797+0.00187204\n",
      "[500]\ttrain-mlogloss:0.59696+0.00075945\ttest-mlogloss:0.635184+0.00170089\n",
      "[550]\ttrain-mlogloss:0.591162+0.000730077\ttest-mlogloss:0.632799+0.00164188\n",
      "[600]\ttrain-mlogloss:0.586029+0.000519031\ttest-mlogloss:0.630873+0.00171743\n",
      "[650]\ttrain-mlogloss:0.58129+0.000361147\ttest-mlogloss:0.629207+0.00173191\n",
      "[700]\ttrain-mlogloss:0.57677+0.000364409\ttest-mlogloss:0.627775+0.00182065\n",
      "[750]\ttrain-mlogloss:0.572515+0.000599171\ttest-mlogloss:0.626534+0.00189875\n",
      "[800]\ttrain-mlogloss:0.568609+0.00084262\ttest-mlogloss:0.625533+0.00189252\n",
      "[850]\ttrain-mlogloss:0.564821+0.000805769\ttest-mlogloss:0.624769+0.00197767\n",
      "[900]\ttrain-mlogloss:0.560952+0.00104529\ttest-mlogloss:0.624043+0.00199958\n",
      "[950]\ttrain-mlogloss:0.557331+0.00109338\ttest-mlogloss:0.623379+0.00209495\n",
      "\n",
      "Runtime: 1min 31s\n",
      "\n",
      "Best CV score (round 999):  0.6229 ± 0.0022 (mean ± std. dev.)\n",
      "Train score (round 999):    0.5539 ± 0.0011 (mean ± std. dev.)\n",
      "\n"
     ]
    },
    {
     "data": {
      "image/png": "[encoded data removed]",
      "text/plain": [
       "<matplotlib.figure.Figure at 0x11f7fbeb8>"
      ]
     },
     "metadata": {
      "image/png": {
       "height": 277,
       "width": 393
      }
     },
     "output_type": "display_data"
    }
   ],
   "source": [
    "RUN_XGB = True\n",
    "fp = ''.join([REPORT_IMG_DIR, 'spchk-xgb-boosting-curve.png'])\n",
    "\n",
    "if RUN_XGB:\n",
    "\n",
    "    learning_rate = 0.015\n",
    "    n_estimators = 1000\n",
    "    max_depth = 5\n",
    "\n",
    "    params = dict(\n",
    "        objective='multi:softprob',\n",
    "        \n",
    "        learning_rate=learning_rate,  # low bias model, using 5/n-rounds\n",
    "        max_depth=max_depth,\n",
    "        \n",
    "        num_class=3, silent=True,\n",
    "        nthread=NTHREAD, seed=SEED,\n",
    "    )\n",
    "\n",
    "    start = time.time()\n",
    "    eval_hist = xgb.cv(\n",
    "        params, dtrain_noimp,\n",
    "        \n",
    "        num_boost_round=n_estimators,\n",
    "        verbose_eval=50,\n",
    "        \n",
    "        metrics='mlogloss',\n",
    "        seed=SEED, stratified=True, nfold=3,\n",
    "    )\n",
    "\n",
    "    end = time.time()\n",
    "    print()\n",
    "    print('Runtime: {}min {}s'.format(*to_min_secs(end-start)))\n",
    "    print()\n",
    "    print(best_xgb_cv_score(eval_hist))\n",
    "    \n",
    "    ax = plot_xgb_boosting_curve(eval_hist)\n",
    "    ax.set_xlim(5, n_estimators+5)\n",
    "    ax.set_title(ax.get_title() + ' - Spot Check')\n",
    "#     plt.savefig(fp, dpi=300, bbox_inches='tight')\n",
    "    \n",
    "else:    \n",
    "    display(Image(fp, width=500))"
   ]
  },
  {
   "cell_type": "markdown",
   "metadata": {
    "hidden": true
   },
   "source": [
    "Output:\n",
    "```\n",
    "[0]\ttrain-mlogloss:1.08943+2.05318e-05\ttest-mlogloss:1.08964+1.7442e-05\n",
    "[50]\ttrain-mlogloss:0.816855+0.00070567\ttest-mlogloss:0.825788+0.000372252\n",
    "[100]\ttrain-mlogloss:0.710921+0.00105693\ttest-mlogloss:0.726957+0.000436776\n",
    "[150]\ttrain-mlogloss:0.661974+0.00100593\ttest-mlogloss:0.684497+0.00068228\n",
    "[200]\ttrain-mlogloss:0.635471+0.000748557\ttest-mlogloss:0.663879+0.000741124\n",
    "[250]\ttrain-mlogloss:0.618083+0.000790681\ttest-mlogloss:0.652458+0.000839083\n",
    "[300]\ttrain-mlogloss:0.604073+0.000705637\ttest-mlogloss:0.644524+0.000842528\n",
    "[350]\ttrain-mlogloss:0.591965+0.000727832\ttest-mlogloss:0.638927+0.00097023\n",
    "\n",
    "Runtime: 1min 20s\n",
    "\n",
    "Best CV score (round 399):  0.6346 ± 0.0013 (mean ± std. dev.)\n",
    "Train score (round 399):    0.5816 ± 0.0007 (mean ± std. dev.)\n",
    "```"
   ]
  },
  {
   "cell_type": "code",
   "execution_count": null,
   "metadata": {
    "hidden": true,
    "scrolled": false
   },
   "outputs": [],
   "source": [
    "fp = ''.join([REPORT_IMG_DIR, 'spchk-xgb-learning-curve.png'])\n",
    "\n",
    "if RUN_XGB:\n",
    "    xgb_clf = XGBClassifier(\n",
    "        objective='multi:softprob',\n",
    "        \n",
    "        learning_rate=learning_rate,\n",
    "        n_estimators=n_estimators,\n",
    "        max_depth=max_depth,\n",
    "        \n",
    "        nthread=NTHREAD, seed=SEED,\n",
    "    )\n",
    "    start = time.time()\n",
    "    plot_learning_curve(\n",
    "        estimator=xgb_clf, X=X_train_noimp, y=y_train_noimp,\n",
    "        estimator_name='XGBClassifier - Spot Check',\n",
    "        scoring=scoring, n_jobs=N_JOBS,\n",
    "    )\n",
    "    end = time.time()\n",
    "    \n",
    "    print('Runtime: {}min {}s'.format(*to_min_secs(end-start)))\n",
    "    \n",
    "#     plt.savefig(fp, dpi=300, bbox_inches='tight')\n",
    "\n",
    "    xgb_clf.fit(X_train_noimp, y_train_noimp)\n",
    "#     joblib.dump(xgb_clf, SPOT_CHECK_XGB_FP)\n",
    "#     print('Pickled to: {}'.format(SPOT_CHECK_XGB_FP))\n",
    "    \n",
    "else:\n",
    "    xgb_clf = joblib.load(SPOT_CHECK_XGB_FP)\n",
    "    print('Loaded: {}'.format(SPOT_CHECK_XGB_FP))\n",
    "    display(Image(fp, width=500))"
   ]
  },
  {
   "cell_type": "markdown",
   "metadata": {
    "hidden": true
   },
   "source": [
    "Output:\n",
    "```\n",
    "Runtime: 1min 25s\n",
    "```"
   ]
  },
  {
   "cell_type": "markdown",
   "metadata": {
    "heading_collapsed": true
   },
   "source": [
    "## TPOT"
   ]
  },
  {
   "cell_type": "code",
   "execution_count": null,
   "metadata": {
    "collapsed": true,
    "hidden": true
   },
   "outputs": [],
   "source": [
    "if 1 == 0:\n",
    "\n",
    "    tpot_light = TPOTClassifier(\n",
    "        generations=5, population_size=20, verbosity=2,\n",
    "        scoring='neg_log_loss', random_state=SEED, n_jobs=1,\n",
    "        config_dict=''.join([TPOT_DIR, 'classifier_light.py'])\n",
    "    )\n",
    "    tpot_light.fit(X_train, y_train)\n",
    "    tpot_light.export(''.join([TPOT_DIR, 'tpot_bench_light.py']))\n",
    "    pickle.dump(tpot_light, ''.join([TPOT_DIR, 'tpot_bench_light.pkl']))"
   ]
  },
  {
   "cell_type": "markdown",
   "metadata": {
    "hidden": true
   },
   "source": [
    "Output:\n",
    "```\n",
    "Generation 5 - Current best internal CV score: 0.6708706420692458\n",
    "\n",
    "Best pipeline: LogisticRegression(DecisionTreeClassifier(StandardScaler(input_matrix), DecisionTreeClassifier__criterion=DEFAULT, DecisionTreeClassifier__max_depth=10, DecisionTreeClassifier__min_samples_leaf=19, DecisionTreeClassifier__min_samples_split=17), LogisticRegression__C=25.0, LogisticRegression__dual=DEFAULT, LogisticRegression__penalty=DEFAULT)\n",
    "```"
   ]
  },
  {
   "cell_type": "code",
   "execution_count": null,
   "metadata": {
    "collapsed": true,
    "hidden": true
   },
   "outputs": [],
   "source": [
    "if 1 == 0:\n",
    "    tpot = TPOTClassifier(generations=5, population_size=20, verbosity=2,\n",
    "                          scoring=scoring, random_state=SEED, n_jobs=1,\n",
    "    )\n",
    "    %timeit -r1 -n1 tpot.fit(X_train, y_train)\n",
    "    tpot.export(''.join([TPOT_DIR, 'tpot_bench.py']))\n",
    "    pickle.dump(tpot, ''.join([TPOT_DIR, 'tpot_bench.pkl']))"
   ]
  },
  {
   "cell_type": "markdown",
   "metadata": {
    "hidden": true
   },
   "source": [
    "Output:\n",
    "```\n",
    "Generation 5 - Current best internal CV score: 0.6185133810756033\n",
    "\n",
    "Best pipeline: XGBClassifier(input_matrix, XGBClassifier__learning_rate=DEFAULT, XGBClassifier__max_depth=6, XGBClassifier__min_child_weight=4, XGBClassifier__n_estimators=100, XGBClassifier__n_jobs=1, XGBClassifier__subsample=0.45)\n",
    "51min 2s ± 0 ns per loop (mean ± std. dev. of 1 run, 1 loop each)\n",
    "```"
   ]
  },
  {
   "cell_type": "markdown",
   "metadata": {},
   "source": [
    "# Model Refinement"
   ]
  },
  {
   "cell_type": "markdown",
   "metadata": {},
   "source": [
    "__Parameter Notes__\n",
    "\n",
    "- For imbalanced classes and speed\n",
    "    - `scale_pos_weigh`, [default=1] (faster, no effect on score)\n",
    "        - See speed improvement section for details\n",
    "    - `max_delta_step`, [default=0]\n",
    "        - From overfitting guide: If you care about predicting the right probability\n",
    "In such a case, you cannot re-balance the dataset\n",
    "In such a case, set parameter `max_delta_step` to a finite number (say 1) will help convergence\n",
    "        - From docs: Maximum delta step we allow each tree's weight estimation to be. If the value is set to 0, it means there is no constraint. If it is set to a positive value, it can help making the update step more conservative. Usually this parameter is not needed, but it might help in logistic regression when class is extremely imbalanced. Set it to value of 1-10 might help control the update\n",
    "        \n",
    "        \n",
    "min_child_weight [default=1]\n",
    "- minimum sum of instance weight (hessian) needed in a child. If the tree partition step results in a leaf node with the sum of instance weight less than min_child_weight, then the building process will give up further partitioning. In linear regression mode, this simply corresponds to minimum number of instances needed to be in each node. The larger, the more conservative the algorithm will be.\n",
    "- range: [0,∞]"
   ]
  },
  {
   "cell_type": "code",
   "execution_count": 21,
   "metadata": {
    "code_folding": [
     21
    ],
    "collapsed": true
   },
   "outputs": [],
   "source": [
    "# Same as spot-check data, just with missing data val -999 imputed\n",
    "\n",
    "features = [\n",
    "    'price_lg', 'bedrooms', 'bathrooms', 'latitude', 'longitude',\n",
    "    'n_photos_sq', 'n_feats_sq', 'descr_wcnt_sq',  # count aggregates\n",
    "#     'day_mon', 'day_tue', 'day_wed', 'day_thu',    # day dummies\n",
    "#     'day_fri', 'day_sat', 'day_sun',\n",
    "]\n",
    "\n",
    "df = read_rental_interest(DF_TRAIN_PKL)\n",
    "\n",
    "X, y = df.drop('interest_level', axis=1), df.interest_level\n",
    "\n",
    "\n",
    "X_prepped = feature_prep(X, imp_constant=-999).loc[:, features]\n",
    "\n",
    "X_train, X_test, y_train, y_test = train_test_split(\n",
    "    X_prepped, y, random_state=SEED, stratify=y, test_size=.25,\n",
    ")\n",
    "\n",
    "# labels are reduced by one to match num_label format in xgb\n",
    "dtrain = xgb.DMatrix(X_train, y_train-1, feature_names=features,\n",
    "                     missing=-999)\n",
    "dtest  = xgb.DMatrix(X_test, y_test-1, feature_names=features,\n",
    "                     missing=-999)"
   ]
  },
  {
   "cell_type": "code",
   "execution_count": 23,
   "metadata": {},
   "outputs": [
    {
     "name": "stdout",
     "output_type": "stream",
     "text": [
      "[0]\ttrain-mlogloss:1.0711\teval-mlogloss:1.0713\n",
      "[30]\ttrain-mlogloss:0.711008\teval-mlogloss:0.71936\n",
      "[60]\ttrain-mlogloss:0.639429\teval-mlogloss:0.65721\n",
      "[90]\ttrain-mlogloss:0.608918\teval-mlogloss:0.636969\n",
      "[120]\ttrain-mlogloss:0.587971\teval-mlogloss:0.626509\n",
      "[150]\ttrain-mlogloss:0.572325\teval-mlogloss:0.620061\n",
      "[180]\ttrain-mlogloss:0.559349\teval-mlogloss:0.616433\n",
      "[210]\ttrain-mlogloss:0.547991\teval-mlogloss:0.613567\n",
      "[240]\ttrain-mlogloss:0.538187\teval-mlogloss:0.611542\n",
      "[270]\ttrain-mlogloss:0.528999\teval-mlogloss:0.610166\n",
      "[300]\ttrain-mlogloss:0.520036\teval-mlogloss:0.609178\n",
      "[330]\ttrain-mlogloss:0.51164\teval-mlogloss:0.608599\n",
      "[360]\ttrain-mlogloss:0.504205\teval-mlogloss:0.608045\n",
      "[390]\ttrain-mlogloss:0.497121\teval-mlogloss:0.607891\n",
      "[420]\ttrain-mlogloss:0.490201\teval-mlogloss:0.607838\n",
      "[450]\ttrain-mlogloss:0.483399\teval-mlogloss:0.60766\n",
      "[480]\ttrain-mlogloss:0.476536\teval-mlogloss:0.607577\n"
     ]
    }
   ],
   "source": [
    "evals = [(dtrain,'train'), (dtest,'eval')]\n",
    "evals_result = dict()\n",
    "\n",
    "params = dict(\n",
    "    objective='multi:softprob',\n",
    "    learning_rate=0.05,\n",
    "    min_child_weight=0.03,\n",
    "    max_depth=6,\n",
    "    subsample=.75,\n",
    "    max_delta_step=1,\n",
    "    eval_metric='mlogloss',\n",
    "\n",
    "    num_class=3,    \n",
    "    missing=-999, nthread=NTHREAD, seed=SEED,\n",
    ")\n",
    "bst = xgb.train(params, dtrain, num_boost_round=500, \n",
    "                evals=evals, evals_result=evals_result, verbose_eval=30)"
   ]
  },
  {
   "cell_type": "markdown",
   "metadata": {
    "heading_collapsed": true
   },
   "source": [
    "## Stage 1: Assess XGBoost's missing value handling"
   ]
  },
  {
   "cell_type": "code",
   "execution_count": 5,
   "metadata": {
    "cell_style": "center",
    "hidden": true
   },
   "outputs": [
    {
     "name": "stdout",
     "output_type": "stream",
     "text": [
      "Runtime: 2min 20s\n",
      "\n",
      "Mean CV score:    -0.6327\n",
      "Train score:      -0.5916\n"
     ]
    }
   ],
   "source": [
    "RUN_XGB = True\n",
    "\n",
    "if RUN_XGB:\n",
    "    \n",
    "    # Same as spot-checked\n",
    "    learning_rate = 0.015\n",
    "    n_estimators = 400\n",
    "    max_depth = 6\n",
    "    \n",
    "    xgb_clf = XGBClassifier(\n",
    "        objective='multi:softprob',\n",
    "        \n",
    "        learning_rate=learning_rate,\n",
    "        n_estimators=n_estimators,\n",
    "        max_depth=max_depth,\n",
    "        \n",
    "        missing=-999, nthread=1, seed=SEED,\n",
    "    )\n",
    "    \n",
    "    start = time.time()\n",
    "    scores = cross_val_score(\n",
    "        estimator=xgb_clf, X=X_train, y=y_train,\n",
    "        fit_params=dict(eval_metric='mlogloss'),\n",
    "        cv=3, scoring=scoring, n_jobs=N_JOBS,\n",
    "    )\n",
    "    y_pred = xgb_clf.fit(X_train, y_train).predict_proba(X_train)\n",
    "    end = time.time()\n",
    "    print('Runtime: {}min {}s'.format(*to_min_secs(end-start)))\n",
    "    print()\n",
    "    print('Mean CV score: {:>10.4f}'.format(np.mean(scores)))\n",
    "    print('Train score:   {:>10.4f}'.format(-log_loss(y_train, y_pred)))\n"
   ]
  },
  {
   "cell_type": "markdown",
   "metadata": {
    "hidden": true
   },
   "source": [
    "Output:\n",
    "```\n",
    "Runtime: 1min 17s\n",
    "\n",
    "Mean CV score:    -0.6327\n",
    "Train score:      -0.5916\n",
    "```"
   ]
  },
  {
   "cell_type": "markdown",
   "metadata": {
    "hidden": true
   },
   "source": [
    "From [docs on tuning](https://github.com/dmlc/xgboost/blob/master/doc/how_to/param_tuning.md):\n",
    "- Controls complexity:\n",
    "    - max_depth\n",
    "    - gamma\n",
    "    - min_child_weight\n",
    "\n",
    "- Robustness to noise:\n",
    "    - sample_bytree (tune before subsample)\n",
    "    - subsample \n",
    "\n",
    "From [docs on parameters](https://github.com/dmlc/xgboost/blob/master/doc/parameter.md):\n",
    "\n",
    "- gamma [default=0, alias: min_split_loss]\n",
    "    - minimum loss reduction required to make a further partition on a leaf node of the tree. The larger, the more conservative the algorithm will be.\n",
    "    - range: [0,∞]\n",
    "\n",
    "- max_depth [default=6]\n",
    "    - maximum depth of a tree, increase this value will make the model more complex / likely to be overfitting. 0 indicates no limit, limit is required for depth-wise grow policy.\n",
    "    - range: [0,∞]\n",
    "\n",
    "- colsample_bytree [default=1]\n",
    "    - subsample ratio of columns when constructing each tree.\n",
    "    - range: (0,1]"
   ]
  },
  {
   "cell_type": "markdown",
   "metadata": {},
   "source": [
    "## Stage 2: Tune `n_estimators` and `learning rate`"
   ]
  },
  {
   "cell_type": "code",
   "execution_count": 28,
   "metadata": {},
   "outputs": [
    {
     "name": "stdout",
     "output_type": "stream",
     "text": [
      "[0]\ttrain-mlogloss:1.0708+0.000133417\ttest-mlogloss:1.07143+0.000103606\n",
      "[50]\ttrain-mlogloss:0.648634+0.000505417\ttest-mlogloss:0.672992+0.000593734\n",
      "[100]\ttrain-mlogloss:0.589981+0.000558672\ttest-mlogloss:0.636129+0.00108036\n",
      "[150]\ttrain-mlogloss:0.55668+0.000816782\ttest-mlogloss:0.624772+0.00132981\n",
      "[200]\ttrain-mlogloss:0.531649+0.00147994\ttest-mlogloss:0.619942+0.00160972\n",
      "[250]\ttrain-mlogloss:0.510454+0.00167314\ttest-mlogloss:0.617792+0.00180283\n",
      "[300]\ttrain-mlogloss:0.492511+0.00112719\ttest-mlogloss:0.616974+0.00205408\n",
      "Runtime: 0min 31s\n",
      "\n"
     ]
    }
   ],
   "source": [
    "params = dict(\n",
    "    objective='multi:softprob',\n",
    "    learning_rate=0.05,\n",
    "    min_child_weight=0.01,\n",
    "    max_depth=6,\n",
    "    subsample=.75,\n",
    "    max_delta_step=1,\n",
    "    \n",
    "    missing=-999, nthread=NTHREAD, seed=SEED,\n",
    "    num_class=3\n",
    ")\n",
    "\n",
    "start = time.time()\n",
    "\n",
    "eval_hist = xgb.cv(params, dtrain, num_boost_round=10000, \n",
    "                   stratified=True, early_stopping_rounds=25,\n",
    "                   metrics='mlogloss', verbose_eval=50,\n",
    "                   seed=SEED, nfold=3)\n",
    "\n",
    "end = time.time()\n",
    "print('Runtime: {}min {}s\\n'.format(*to_min_secs(end-start)))"
   ]
  },
  {
   "cell_type": "code",
   "execution_count": 14,
   "metadata": {
    "cell_style": "center"
   },
   "outputs": [
    {
     "data": {
      "image/png": "[encoded data removed]",
      "text/plain": [
       "<matplotlib.figure.Figure at 0x11633b128>"
      ]
     },
     "metadata": {
      "image/png": {
       "height": 277,
       "width": 384
      }
     },
     "output_type": "display_data"
    }
   ],
   "source": [
    "ax = plot_xgb_boosting_curve(eval_hist)\n",
    "\n",
    "fp = ''.join([REPORT_IMG_DIR, 'tune-est-xgb-boosting-curve.png'])\n",
    "# plt.savefig(fp, dpi=300, bbox_inches='tight') \n",
    "\n",
    "plt.show()"
   ]
  },
  {
   "cell_type": "markdown",
   "metadata": {},
   "source": [
    "Output:\n",
    "```\n",
    "Runtime: 0min 25s\n",
    "```"
   ]
  },
  {
   "cell_type": "markdown",
   "metadata": {},
   "source": [
    "### Conclusion:\n",
    "- 300 estimators with .3 learning rate, balances performance needs"
   ]
  },
  {
   "cell_type": "markdown",
   "metadata": {},
   "source": [
    "## Stage 3: Tune `max_depth`"
   ]
  },
  {
   "cell_type": "code",
   "execution_count": 24,
   "metadata": {},
   "outputs": [
    {
     "name": "stdout",
     "output_type": "stream",
     "text": [
      "1min 49s ± 0 ns per loop (mean ± std. dev. of 1 run, 1 loop each)\n",
      "\n",
      "Best grid CV score: -0.6182 ± 0.0034 (mean ± std. dev.)\n",
      "Train score:        -0.4883 ± 0.0057 (mean ± std. dev.)\n",
      "\n",
      "*** For parameters: ***\n",
      "max_depth=6\n"
     ]
    }
   ],
   "source": [
    "RUN_XGB = True\n",
    "\n",
    "if RUN_XGB:\n",
    "    xgb_clf = XGBClassifier(\n",
    "        objective='multi:softprob',\n",
    "        n_estimators=1000,\n",
    "        learning_rate=0.05,\n",
    "        min_child_weight=0.3,\n",
    "        max_delta_step=1,\n",
    "        \n",
    "        missing=-999, nthread=1, seed=SEED,\n",
    "        \n",
    "    )\n",
    "    params = dict(\n",
    "        max_depth=[6, 7, 8, 9],\n",
    "    )\n",
    "    fit_params=dict(\n",
    "        early_stopping_rounds=25, \n",
    "        eval_metric='mlogloss', \n",
    "        eval_set=[(X_train, y_train), (X_test, y_test)],\n",
    "        verbose=False,\n",
    "    )\n",
    "    \n",
    "    grid_s3 = GridSearchCV(xgb_clf, params, fit_params=fit_params,\n",
    "                           scoring=scoring, cv=3, n_jobs=N_JOBS)\n",
    "\n",
    "    %timeit -r1 -n1 grid_s3.fit(X_train, y_train)\n",
    "    print()\n",
    "    \n",
    "#     joblib.dump(grid_s2, GRID_S2_FP)\n",
    "#     print('Pickled to: {}'.format(GRID_S2_FP))\n",
    "    \n",
    "else:\n",
    "    grid_s3 = joblib.load(GRID_S3_FP)\n",
    "    print('Loaded: {}'.format(GRID_S3_FP))\n",
    "    \n",
    "print(best_grid_score(grid_s3))"
   ]
  },
  {
   "cell_type": "code",
   "execution_count": 29,
   "metadata": {},
   "outputs": [
    {
     "data": {
      "text/plain": [
       "XGBClassifier(base_score=0.5, colsample_bylevel=1, colsample_bytree=1,\n",
       "       gamma=0, learning_rate=0.05, max_delta_step=1, max_depth=6,\n",
       "       min_child_weight=0.3, missing=-999, n_estimators=1000, nthread=1,\n",
       "       objective='multi:softprob', reg_alpha=0, reg_lambda=1,\n",
       "       scale_pos_weight=1, seed=42, silent=True, subsample=1)"
      ]
     },
     "execution_count": 29,
     "metadata": {},
     "output_type": "execute_result"
    }
   ],
   "source": [
    "grid_s3.best_estimator_"
   ]
  },
  {
   "cell_type": "code",
   "execution_count": 9,
   "metadata": {},
   "outputs": [
    {
     "data": {
      "image/png": "[encoded data removed]",
      "text/plain": [
       "<matplotlib.figure.Figure at 0x11d849748>"
      ]
     },
     "metadata": {
      "image/png": {
       "height": 306,
       "width": 546
      }
     },
     "output_type": "display_data"
    }
   ],
   "source": [
    "ge = GridSearchExplorer(grid_s3)\n",
    "fig = ge.plot(x='max_depth', kind='point')\n",
    "plt.show()"
   ]
  },
  {
   "cell_type": "code",
   "execution_count": 30,
   "metadata": {},
   "outputs": [
    {
     "data": {
      "image/png": "[encoded data removed]",
      "text/plain": [
       "<matplotlib.figure.Figure at 0x11a987278>"
      ]
     },
     "metadata": {
      "image/png": {
       "height": 277,
       "width": 400
      }
     },
     "output_type": "display_data"
    }
   ],
   "source": [
    "ge = GridSearchExplorer(grid_s3)\n",
    "fig = ge.plot(x='max_depth', kind='point', metric='std_test_score')\n",
    "plt.show()"
   ]
  },
  {
   "cell_type": "markdown",
   "metadata": {},
   "source": [
    "Output:\n",
    "```\n",
    "3min 21s ± 0 ns per loop (mean ± std. dev. of 1 run, 1 loop each)\n",
    "\n",
    "Best grid CV score: -0.6216 ± 0.0042 (mean ± std. dev.)\n",
    "Train score:        -0.4495 ± 0.0012 (mean ± std. dev.)\n",
    "\n",
    "*** For parameters: ***\n",
    "max_depth=8\n",
    "```"
   ]
  },
  {
   "cell_type": "markdown",
   "metadata": {},
   "source": [
    "### Conclusion:\n",
    "- Can try 6 and 8 for max depth\n",
    "- Use 7"
   ]
  },
  {
   "cell_type": "markdown",
   "metadata": {},
   "source": [
    "## Stage 4: Tune `subsample` and `colsample_bytree`"
   ]
  },
  {
   "cell_type": "markdown",
   "metadata": {},
   "source": [
    "From [docs on parameters](https://github.com/dmlc/xgboost/blob/master/doc/parameter.md)"
   ]
  },
  {
   "cell_type": "code",
   "execution_count": 18,
   "metadata": {},
   "outputs": [
    {
     "name": "stdout",
     "output_type": "stream",
     "text": [
      "3min 24s ± 0 ns per loop (mean ± std. dev. of 1 run, 1 loop each)\n",
      "\n",
      "Best grid CV score: -0.6145 ± 0.0035 (mean ± std. dev.)\n",
      "Train score:        -0.4956 ± 0.0021 (mean ± std. dev.)\n",
      "\n",
      "*** For parameters: ***\n",
      "colsample_bylevel=0.8\n",
      "subsample=0.5\n"
     ]
    }
   ],
   "source": [
    "RUN_XGB = True\n",
    "\n",
    "if RUN_XGB:\n",
    "    \n",
    "    xgb_clf = XGBClassifier(\n",
    "        objective='multi:softprob',\n",
    "        n_estimators=300,\n",
    "        learning_rate=0.05,\n",
    "        min_child_weight=0.03,\n",
    "        max_depth=6,\n",
    "#         subsample=.5,\n",
    "        max_delta_step=1,\n",
    "        \n",
    "        missing=-999, nthread=1, seed=SEED,\n",
    "    )\n",
    "    params = dict(\n",
    "        subsample=[.5, .75, 1],\n",
    "        colsample_bylevel=[.8, 1],\n",
    "    )\n",
    "\n",
    "    grid_s4 = GridSearchCV(xgb_clf, params, scoring=scoring,\n",
    "                           cv=3, n_jobs=N_JOBS)\n",
    "\n",
    "    %timeit -r1 -n1 grid_s4.fit(X_train, y_train)\n",
    "    print()\n",
    "    \n",
    "#     joblib.dump(grid_s4, GRID_S4_FP)\n",
    "#     print('Pickled to: {}'.format(GRID_S4_FP))\n",
    "    \n",
    "else:\n",
    "    grid_s4 = joblib.load(GRID_S4_FP)\n",
    "    print('Loaded: {}'.format(GRID_S4_FP))\n",
    "    \n",
    "print(best_grid_score(grid_s4))"
   ]
  },
  {
   "cell_type": "code",
   "execution_count": 19,
   "metadata": {},
   "outputs": [
    {
     "data": {
      "image/png": "[encoded data removed]",
      "text/plain": [
       "<matplotlib.figure.Figure at 0x116dce080>"
      ]
     },
     "metadata": {
      "image/png": {
       "height": 277,
       "width": 397
      }
     },
     "output_type": "display_data"
    }
   ],
   "source": [
    "ge = GridSearchExplorer(grid_s4)\n",
    "fig = ge.plot(x='colsample_bylevel')\n",
    "plt.show()"
   ]
  },
  {
   "cell_type": "markdown",
   "metadata": {},
   "source": [
    "Output:\n",
    "```\n",
    "3min 24s ± 0 ns per loop (mean ± std. dev. of 1 run, 1 loop each)\n",
    "\n",
    "Best grid CV score: -0.6145 ± 0.0035 (mean ± std. dev.)\n",
    "Train score:        -0.4956 ± 0.0021 (mean ± std. dev.)\n",
    "\n",
    "*** For parameters: ***\n",
    "colsample_bylevel=0.8\n",
    "subsample=0.5\n",
    "```"
   ]
  },
  {
   "cell_type": "markdown",
   "metadata": {
    "heading_collapsed": true
   },
   "source": [
    "## Stage 5: Fine-Tune `learning_rate` and `min_child_weight`"
   ]
  },
  {
   "cell_type": "code",
   "execution_count": 37,
   "metadata": {
    "hidden": true
   },
   "outputs": [
    {
     "name": "stdout",
     "output_type": "stream",
     "text": [
      "7min 41s ± 0 ns per loop (mean ± std. dev. of 1 run, 1 loop each)\n",
      "\n",
      "Best grid CV score: -0.6146 ± 0.0035 (mean ± std. dev.)\n",
      "Train score:        -0.4590 ± 0.0027 (mean ± std. dev.)\n",
      "\n",
      "*** For parameters: ***\n",
      "learning_rate=0.04\n"
     ]
    }
   ],
   "source": [
    "RUN_XGB = True\n",
    "\n",
    "if RUN_XGB:\n",
    "    \n",
    "    xgb_clf = XGBClassifier(\n",
    "        objective='multi:softprob',\n",
    "        n_estimators=300,\n",
    "        learning_rate=0.03,\n",
    "        min_child_weight=0.3,\n",
    "        max_depth=7,\n",
    "        subsample=.5,\n",
    "        \n",
    "        missing=-999, nthread=1, seed=SEED,\n",
    "    )\n",
    "    params = [\n",
    "        dict(learning_rate=[.02, .03, .04]),\n",
    "        dict(min_child_weight=[0.05, .1, .5, 1, 3]),\n",
    "        dict(gamma=[0.01, .1, .3, .5]),\n",
    "    ]\n",
    "\n",
    "    grid_s5 = GridSearchCV(xgb_clf, params, scoring=scoring,\n",
    "                           cv=3, n_jobs=N_JOBS)\n",
    "\n",
    "    %timeit -r1 -n1 grid_s5.fit(X_train, y_train)\n",
    "    print()\n",
    "    \n",
    "#     joblib.dump(grid_s5, GRID_S5_FP)\n",
    "#     print('Pickled to: {}'.format(GRID_S5_FP))\n",
    "    \n",
    "else:\n",
    "    grid_s4 = joblib.load(GRID_S5_FP)\n",
    "    print('Loaded: {}'.format(GRID_S5_FP))\n",
    "    \n",
    "print(best_grid_score(grid_s5))"
   ]
  },
  {
   "cell_type": "markdown",
   "metadata": {
    "hidden": true
   },
   "source": [
    "Output:\n",
    "```\n",
    "5min 49s ± 0 ns per loop (mean ± std. dev. of 1 run, 1 loop each)\n",
    "\n",
    "Best grid CV score: -0.6151 ± 0.0039 (mean ± std. dev.)\n",
    "Train score:        -0.4426 ± 0.0022 (mean ± std. dev.)\n",
    "\n",
    "*** For parameters: ***\n",
    "learning_rate=0.03\n",
    "```"
   ]
  },
  {
   "cell_type": "code",
   "execution_count": null,
   "metadata": {
    "hidden": true
   },
   "outputs": [],
   "source": [
    "pd.DataFrame(grid_s5.cv_results_)"
   ]
  },
  {
   "cell_type": "markdown",
   "metadata": {
    "hidden": true
   },
   "source": [
    "### Conclusion:\n",
    "\n",
    "Best balance is `max_depth=6`, `min_child_weight=8`: \n",
    "- `0.6307 - 0.6036 = 0.0271`\n",
    "\n",
    "No improvement on previous stage:\n",
    "- `0.6329 - 0.6118 = 0.0211`"
   ]
  },
  {
   "cell_type": "markdown",
   "metadata": {},
   "source": [
    "## Stage 5: Reassess XGBoost's missing value handling"
   ]
  },
  {
   "cell_type": "code",
   "execution_count": null,
   "metadata": {
    "collapsed": true
   },
   "outputs": [],
   "source": [
    "features = [\n",
    "    'price_lg', 'bedrooms', 'bathrooms', 'latitude', 'longitude',\n",
    "    'n_photos_sq', 'n_feats_sq', 'descr_wcnt_sq',  # count aggregates\n",
    "    'day_mon', 'day_tue', 'day_wed', 'day_thu',    # day dummies\n",
    "    'day_fri', 'day_sat', 'day_sun',\n",
    "]\n",
    "\n",
    "X_prepped_noimp = feature_prep(X).loc[:, features]\n",
    "\n",
    "X_train_noimp, X_test_noimp, y_train_noimp, y_test_noimp = \\\n",
    "    train_test_split(\n",
    "        X_prepped_noimp, y, random_state=SEED, stratify=y, test_size=.25,\n",
    "    )"
   ]
  },
  {
   "cell_type": "code",
   "execution_count": null,
   "metadata": {
    "code_folding": []
   },
   "outputs": [],
   "source": [
    "# Prevents occasional pickle error within GridSearch after autoreload\n",
    "from preprocessing import ItemSelector, LatLongImputer, BedBathImputer\n",
    "\n",
    "RUN_XGB = True\n",
    "\n",
    "if RUN_XGB:\n",
    "    \n",
    "    # Multithreading must take place in XGBoostClassifier to prevent:\n",
    "    # AttributeError: 'BedBathImputer' object has no attribute 'imp_constant'\n",
    "    xgb_clf = XGBClassifier(\n",
    "            objective='multi:softprob',\n",
    "            n_estimators=200,\n",
    "            learning_rate=0.05,\n",
    "\n",
    "            max_depth=5,\n",
    "            gamma=5, \n",
    "            colsample_bytree=.8,\n",
    "\n",
    "            missing=-999, nthread=NTHREAD, seed=SEED,\n",
    "    )\n",
    "    \n",
    "    extractor = FeatureUnion([\n",
    "        ('pre_processed', ItemSelector(\n",
    "            ['price_lg', 'n_photos_sq', 'n_feats_sq', 'descr_wcnt_sq']\n",
    "            )\n",
    "        ),\n",
    "        ('coords', Pipeline([\n",
    "            ('select', ItemSelector(['latitude', 'longitude'])),\n",
    "            ('imp_coords', LatLongImputer(how='mean', broad=False)),\n",
    "            ])\n",
    "        ),\n",
    "        ('rooms', Pipeline([\n",
    "            ('select', ItemSelector(['bathrooms', 'bedrooms'])),\n",
    "            ('imp_rooms', BedBathImputer(how='medians')),\n",
    "            ])\n",
    "        ),   \n",
    "        ('days', ItemSelector([\n",
    "            'day_mon', 'day_tue', 'day_wed', 'day_thu',\n",
    "            'day_fri', 'day_sat', 'day_sun' \n",
    "            ])\n",
    "        ),\n",
    "    ])\n",
    "    \n",
    "    pipe = Pipeline([\n",
    "        ('extr', extractor),\n",
    "        ('xgb_clf', xgb_clf),\n",
    "    ])\n",
    "    \n",
    "    params = dict(\n",
    "        extr__coords__imp_coords__how=['mean', -999],\n",
    "        extr__coords__imp_coords__broad=[False, True],\n",
    "        extr__rooms__imp_rooms__how=['medians', -999],\n",
    "    )\n",
    "    \n",
    "    grid_s5 = GridSearchCV(\n",
    "        pipe, params, scoring=scoring, cv=3, n_jobs=1\n",
    "    )\n",
    "    %timeit -r1 -n1 grid_s5.fit(X_train_noimp, y_train_noimp)\n",
    "    print()\n",
    "    \n",
    "#     joblib.dump(grid_s5, GRID_S5_FP)\n",
    "#     print('Pickled to: {}'.format(GRID_S5_FP))\n",
    "    \n",
    "else:\n",
    "    grid_s5 = joblib.load(GRID_S5_FP)\n",
    "    print('Loaded: {}'.format(GRID_S5_FP))\n",
    "    \n",
    "print(best_grid_score(grid_s5))\n"
   ]
  },
  {
   "cell_type": "markdown",
   "metadata": {},
   "source": [
    "Output:\n",
    "```\n",
    "2min 3s ± 0 ns per loop (mean ± std. dev. of 1 run, 1 loop each)\n",
    "\n",
    "Pickled to: ./Models/grid_s5.pkl\n",
    "Best grid CV score: -0.6345 ± 0.0022 (mean ± std. dev.)\n",
    "Train score:        -0.6122 ± 0.0015 (mean ± std. dev.)\n",
    "\n",
    "*** For parameters: ***\n",
    "extr__coords__imp_coords__broad=False\n",
    "extr__coords__imp_coords__how=mean\n",
    "extr__rooms__imp_rooms__how=-999\n",
    "```"
   ]
  },
  {
   "cell_type": "code",
   "execution_count": null,
   "metadata": {},
   "outputs": [],
   "source": [
    "ge = GridSearchExplorer(grid_s5)\n",
    "fig = ge.plot_cv_train_comparison(x='extr__rooms__imp_rooms__how')\n",
    "\n",
    "suptitle = ('GridSearchCV Scores for XGBClassifier'\n",
    "            ' - Imputation strategies')\n",
    "plt.suptitle(suptitle, fontsize='x-large', y=1.05)\n",
    "for ax in fig.axes[0:3]:\n",
    "    ax.set_ylabel('imp_coords__broad-how')\n",
    "    ax.set_xlabel('imp_rooms__how')\n",
    "\n",
    "plt.tight_layout()"
   ]
  },
  {
   "cell_type": "markdown",
   "metadata": {},
   "source": [
    "### Conclusion:\n",
    "\n",
    "No meaningful difference"
   ]
  },
  {
   "cell_type": "markdown",
   "metadata": {},
   "source": [
    "## Stage 6: Probability Calibration"
   ]
  },
  {
   "cell_type": "code",
   "execution_count": null,
   "metadata": {
    "code_folding": [
     0
    ],
    "collapsed": true
   },
   "outputs": [],
   "source": [
    "def plot_multiclass_calibration_curve(y_true, y_prob, n_bins=10, ax=None):\n",
    "    \n",
    "    assert (y_prob.sum(1).round(decimals=5)==1).all()\n",
    "    \n",
    "    if ax is None:\n",
    "        fig, ax = plt.subplots()\n",
    "    linestyle = 'd-'\n",
    "        \n",
    "    ax.plot([0, 1], [0, 1], 'k:', label='Perfectly calibrated')\n",
    "\n",
    "    y_true1 = y_true.replace([1, 2, 3], [1, 0, 0])\n",
    "    y_prob1 = y_prob.loc[:, 1]\n",
    "\n",
    "    fraction_of_positives, mean_predicted_value = \\\n",
    "        calibration_curve(y_true1, y_prob1, n_bins=n_bins)\n",
    "\n",
    "    ax.plot(mean_predicted_value, fraction_of_positives, linestyle,\n",
    "            label='low')\n",
    "\n",
    "    y_true2 = y_true.replace([1, 2, 3], [0, 1, 0])\n",
    "    y_prob2 = y_prob.loc[:, 2]\n",
    "\n",
    "    fraction_of_positives, mean_predicted_value = \\\n",
    "        calibration_curve(y_true2, y_prob2, n_bins=n_bins)\n",
    "\n",
    "    ax.plot(mean_predicted_value, fraction_of_positives, linestyle,\n",
    "            label='medium')\n",
    "\n",
    "    y_true3 = y_true.replace([1, 2, 3], [0, 0, 1])\n",
    "    y_prob3 = y_prob.loc[:, 3]\n",
    "\n",
    "    fraction_of_positives, mean_predicted_value = \\\n",
    "        calibration_curve(y_true3, y_prob3, n_bins=n_bins)\n",
    "\n",
    "    ax.plot(mean_predicted_value, fraction_of_positives, linestyle,\n",
    "            label='high')\n",
    "\n",
    "    ax.set_xlabel('Mean predicted value')\n",
    "    ax.set_ylabel('Fraction of positives')\n",
    "    ax.set_ylim([-0.05, 1.05])\n",
    "    ax.legend()\n",
    "    ax.set_title('Calibration plots (reliability curve)')\n",
    "    \n",
    "    return ax"
   ]
  },
  {
   "cell_type": "code",
   "execution_count": null,
   "metadata": {
    "code_folding": [
     0
    ]
   },
   "outputs": [],
   "source": [
    "fp = ''.join([REPORT_IMG_DIR, 'xgb-calibration-curve.png'])\n",
    "\n",
    "RUN_XGB = True\n",
    "\n",
    "if RUN_XGB:\n",
    "    \n",
    "    start = time.time()\n",
    "\n",
    "    # Resplit for equal disjoint calibration sets\n",
    "    X_train_calb, X_test_calb, y_train_calb, y_test_calb = train_test_split(\n",
    "        X_prepped, y, random_state=SEED, stratify=y, test_size=.25,\n",
    "    )\n",
    "\n",
    "    xgb_clf = XGBClassifier(\n",
    "        objective='multi:softprob',\n",
    "        n_estimators=200,\n",
    "        learning_rate=0.05,\n",
    "\n",
    "        max_depth=5,\n",
    "        gamma=5, \n",
    "        colsample_bytree=.8,\n",
    "\n",
    "        missing=-999, nthread=NTHREAD, seed=SEED,\n",
    "    )\n",
    "\n",
    "    fig, (ax1, ax2, ax3) = plt.subplots(ncols=3, figsize=(16, 4))\n",
    "\n",
    "    n_bins = 20\n",
    "    cv = 3\n",
    "\n",
    "    xgb_clf.fit(X_train_calb, y_train_calb)\n",
    "    y_pred = pd.DataFrame(\n",
    "        xgb_clf.predict_proba(X_test_calb),\n",
    "        columns=np.unique(y_test_calb)\n",
    "    )\n",
    "    plot_multiclass_calibration_curve(y_test_calb, y_pred, n_bins, ax1)\n",
    "    ax1.set_title(ax1.get_title() + ' - Uncalibrated')\n",
    "\n",
    "    calb_sig = CalibratedClassifierCV(xgb_clf, 'sigmoid', cv=cv)\n",
    "    calb_sig.fit(X_train_calb, y_train_calb)\n",
    "    y_pred = pd.DataFrame(\n",
    "        calb_sig.predict_proba(X_test_calb),\n",
    "        columns=np.unique(y_test_calb)\n",
    "    )\n",
    "    plot_multiclass_calibration_curve(y_test_calb, y_pred, n_bins, ax2)\n",
    "    ax2.set_title(ax2.get_title() + ' - Sigmoid')\n",
    "\n",
    "    calb_iso = CalibratedClassifierCV(xgb_clf, 'isotonic', cv=cv)\n",
    "    calb_iso.fit(X_train_calb, y_train_calb)\n",
    "    y_pred = pd.DataFrame(\n",
    "        calb_iso.predict_proba(X_test_calb),\n",
    "        columns=np.unique(y_test_calb)\n",
    "    )\n",
    "    plot_multiclass_calibration_curve(y_test_calb, y_pred, n_bins, ax3)\n",
    "    ax3.set_title(ax2.get_title() + ' - Isotonic')\n",
    "\n",
    "    plt.savefig(fp, dpi=300, bbox_inches='tight')\n",
    "\n",
    "    plt.tight_layout()\n",
    "    \n",
    "    end = time.time()\n",
    "    print('Runtime: {}min {}s\\n'.format(*to_min_secs(end-start)))\n",
    "else:\n",
    "    display(Image(fp, width=1500))"
   ]
  },
  {
   "cell_type": "markdown",
   "metadata": {},
   "source": [
    "Output:\n",
    "```\n",
    "Runtime: 0min 29s\n",
    "```"
   ]
  },
  {
   "cell_type": "code",
   "execution_count": null,
   "metadata": {},
   "outputs": [],
   "source": [
    "RUN_XGB = True\n",
    "\n",
    "if RUN_XGB:\n",
    "\n",
    "    start = time.time()\n",
    "    scores = cross_val_score(\n",
    "        estimator=calb_iso, X=X_test_calb, y=y_test_calb,\n",
    "        cv=3, scoring=scoring, n_jobs=1,\n",
    "    )\n",
    "    y_pred = (calb_sig.fit(X_test_calb, y_test_calb)\n",
    "              .predict_proba(X_test_calb)\n",
    "    )\n",
    "    end = time.time()\n",
    "    print('Runtime: {}min {}s'.format(*to_min_secs(end-start)))\n",
    "    print()\n",
    "    print('Mean CV score: {:>10.4f}'.format(np.mean(scores)))\n",
    "    print('Train score:   {:>10.4f}'.format(-log_loss(y_test_calb, y_pred)))\n"
   ]
  },
  {
   "cell_type": "markdown",
   "metadata": {},
   "source": [
    "Output:\n",
    "```\n",
    "Runtime: 0min 18s\n",
    "\n",
    "Mean CV score:    -0.6654\n",
    "Train score:      -0.6304\n",
    "```"
   ]
  },
  {
   "cell_type": "markdown",
   "metadata": {},
   "source": [
    "# Model Validation and Evaluation"
   ]
  },
  {
   "cell_type": "code",
   "execution_count": 33,
   "metadata": {},
   "outputs": [
    {
     "name": "stderr",
     "output_type": "stream",
     "text": [
      "Exception ignored in: <bound method DMatrix.__del__ of <xgboost.core.DMatrix object at 0x113a39438>>\n",
      "Traceback (most recent call last):\n",
      "  File \"/Users/mdlynch37/anaconda3/envs/rental-interest/lib/python3.5/site-packages/xgboost/core.py\", line 324, in __del__\n",
      "    _check_call(_LIB.XGDMatrixFree(self.handle))\n",
      "AttributeError: 'DMatrix' object has no attribute 'handle'\n"
     ]
    }
   ],
   "source": [
    "# Same as spot-check data, just with missing data val -999 imputed\n",
    "\n",
    "features = [\n",
    "    'price_lg', 'bedrooms', 'bathrooms', 'latitude', 'longitude',\n",
    "    'n_photos_sq', 'n_feats_sq', 'descr_wcnt_sq',  # count aggregates\n",
    "#     'day_mon', 'day_tue', 'day_wed', 'day_thu',    # day dummies\n",
    "#     'day_fri', 'day_sat', 'day_sun',\n",
    "]\n",
    "\n",
    "df = read_rental_interest(DF_TRAIN_PKL)\n",
    "\n",
    "X, y = df.drop('interest_level', axis=1), df.interest_level\n",
    "\n",
    "X_prepped = feature_prep(X, imp_constant=-999).loc[:, features]\n",
    "\n",
    "X_train, X_test, y_train, y_test = train_test_split(\n",
    "    X_prepped, y, random_state=SEED, stratify=y, test_size=.25,\n",
    ")"
   ]
  },
  {
   "cell_type": "code",
   "execution_count": 35,
   "metadata": {
    "scrolled": true
   },
   "outputs": [
    {
     "data": {
      "image/png": "[encoded data removed]",
      "text/plain": [
       "<matplotlib.figure.Figure at 0x11dad86d8>"
      ]
     },
     "metadata": {
      "image/png": {
       "height": 277,
       "width": 436
      }
     },
     "output_type": "display_data"
    }
   ],
   "source": [
    "params = dict(\n",
    "    objective='multi:softprob',\n",
    "    n_estimators=300,\n",
    "    learning_rate=0.05,\n",
    "    min_child_weight=0.01,\n",
    "    max_depth=6,\n",
    "    subsample=.75,\n",
    "    max_delta_step=1,\n",
    "    \n",
    "    missing=-999, nthread=NTHREAD, seed=SEED,\n",
    ")\n",
    "xgb_final = XGBClassifier(**params).fit(X_prepped, y)\n",
    "\n",
    "xgb.plot_importance(xgb_final)\n",
    "plt.show()"
   ]
  },
  {
   "cell_type": "markdown",
   "metadata": {},
   "source": [
    "## Sensitivity Analysis"
   ]
  },
  {
   "cell_type": "markdown",
   "metadata": {},
   "source": [
    "Random noise added to price:"
   ]
  },
  {
   "cell_type": "code",
   "execution_count": null,
   "metadata": {},
   "outputs": [],
   "source": [
    "np.random.seed(SEED)\n",
    "\n",
    "loc, scale = stats.distributions.norm.fit(X_test.price_lg)\n",
    "price_noise = np.random.normal(loc=loc, scale=scale, size=len(X_test))\n",
    "noise_scale = .0001*(X_test.price_lg.max()-X_test.price_lg.min())\n",
    "X_test_noisey = X_test.copy()\n",
    "price_noise *= noise_scale\n",
    "X_test_noisey.price_lg += price_noise\n",
    "\n",
    "xgb_final.fit(X_train, y_train)\n",
    "y_pred_noisy = xgb_final.predict_proba(X_test_noisey)\n",
    "print('Noise range: {:.4f} to {:.4f}'.format(price_noise.min(), price_noise.max()))\n",
    "print('Hold-out with noise: {:.4f}'.format(-log_loss(y_test, y_pred_noisy)))\n",
    "\n",
    "y_pred = xgb_final.predict_proba(X_test)\n",
    "print('Hold-out w/o noise: {:.4f}'.format(-log_loss(y_test, y_pred)))"
   ]
  },
  {
   "cell_type": "markdown",
   "metadata": {},
   "source": [
    "Output:\n",
    "```\n",
    "Noise range: 0.0052 to 0.0079\n",
    "Hold-out with noise: -0.6318\n",
    "Hold-out w/o noise: -0.6290\n",
    "```"
   ]
  },
  {
   "cell_type": "markdown",
   "metadata": {},
   "source": [
    "## Hold-out and Test Results"
   ]
  },
  {
   "cell_type": "markdown",
   "metadata": {},
   "source": [
    "- Hold-out set: Test set from train-test split\n",
    "- Test set: Competition test set"
   ]
  },
  {
   "cell_type": "code",
   "execution_count": 37,
   "metadata": {},
   "outputs": [
    {
     "name": "stdout",
     "output_type": "stream",
     "text": [
      "Hold-out set score:    -0.6093\n"
     ]
    }
   ],
   "source": [
    "xgb_final.fit(X_train, y_train)\n",
    "y_pred = xgb_final.predict_proba(X_test)\n",
    "print('Hold-out set score: {:>10.4f}'.format(-log_loss(y_test, y_pred)))"
   ]
  },
  {
   "cell_type": "markdown",
   "metadata": {},
   "source": [
    "Output:\n",
    "```\n",
    "Hold-out set score:    -0.6093\n",
    "```"
   ]
  },
  {
   "cell_type": "code",
   "execution_count": 36,
   "metadata": {
    "collapsed": true
   },
   "outputs": [],
   "source": [
    "features = [\n",
    "    'price_lg', 'bedrooms', 'bathrooms', 'latitude', 'longitude',\n",
    "    'n_photos_sq', 'n_feats_sq', 'descr_wcnt_sq',  # count aggregates\n",
    "#     'day_mon', 'day_tue', 'day_wed', 'day_thu',    # day dummies\n",
    "#     'day_fri', 'day_sat', 'day_sun',\n",
    "]\n",
    "\n",
    "submission_fp = ''.join([SUBM_DIR, 'udacity_final.csv'])\n",
    "\n",
    "xgb_final.fit(X_prepped, y)\n",
    "\n",
    "df_te = read_rental_interest(DF_TEST_PKL)\n",
    "X_test_subm = feature_prep(df_te, imp_constant=-999).loc[:, features]\n",
    "subm_preds = xgb_final.predict_proba(X_test_subm)\n",
    "\n",
    "save_submission(subm_preds, X_test_subm.index, submission_fp)"
   ]
  },
  {
   "cell_type": "markdown",
   "metadata": {},
   "source": [
    "Result from Kaggle: -0.61179 (1700 of 2500)"
   ]
  },
  {
   "cell_type": "markdown",
   "metadata": {},
   "source": [
    "### Does gap between test and train in CV matter?"
   ]
  },
  {
   "cell_type": "code",
   "execution_count": null,
   "metadata": {
    "collapsed": true
   },
   "outputs": [],
   "source": [
    "# Same as spot-check data, just with missing data val -999 imputed\n",
    "\n",
    "features = [\n",
    "    'price_lg', 'bedrooms', 'bathrooms', 'latitude', 'longitude',\n",
    "    'n_photos_sq', 'n_feats_sq', 'descr_wcnt_sq',  # count aggregates\n",
    "    'day_mon', 'day_tue', 'day_wed', 'day_thu',    # day dummies\n",
    "    'day_fri', 'day_sat', 'day_sun',\n",
    "]\n",
    "\n",
    "df = read_rental_interest(DF_TRAIN_PKL)\n",
    "\n",
    "X, y = df.drop('interest_level', axis=1), df.interest_level\n",
    "\n",
    "X_prepped = feature_prep(X, imp_constant=-999).loc[:, features]\n",
    "\n",
    "X_train, X_test, y_train, y_test = train_test_split(\n",
    "    X_prepped, y, random_state=SEED, stratify=y, test_size=.25,\n",
    ")\n",
    "\n",
    "# labels are reduced by one to match num_label format in xgb\n",
    "dtrain = xgb.DMatrix(X_train, y_train-1, feature_names=features,\n",
    "                     missing=-999)\n",
    "dtest  = xgb.DMatrix(X_test, y_test-1, feature_names=features,\n",
    "                     missing=-999)"
   ]
  },
  {
   "cell_type": "markdown",
   "metadata": {},
   "source": [
    "From Stage 3: Tune `n_estimators`\n",
    "- Changed n_estimators to 1000 from 400"
   ]
  },
  {
   "cell_type": "code",
   "execution_count": null,
   "metadata": {},
   "outputs": [],
   "source": [
    "params = dict(\n",
    "    objective='multi:softprob',\n",
    "    n_estimators = 1000,  # specified in xgb.cv params\n",
    "    learning_rate=0.05,\n",
    "    \n",
    "    # best from above\n",
    "    max_depth=5, \n",
    "    gamma=5, \n",
    "    colsample_bytree=.8,\n",
    "    \n",
    "    missing=-999, nthread=NTHREAD, seed=SEED,\n",
    "    num_class=3\n",
    ")\n",
    "\n",
    "start = time.time()\n",
    "\n",
    "eval_hist = xgb.cv(params, dtrain, num_boost_round=1000, \n",
    "                   stratified=True, early_stopping_rounds=None,\n",
    "                   metrics='mlogloss', seed=SEED, nfold=3)\n",
    "\n",
    "end = time.time()\n",
    "print('Runtime: {}min {}s\\n'.format(*to_min_secs(end-start)))"
   ]
  },
  {
   "cell_type": "code",
   "execution_count": null,
   "metadata": {},
   "outputs": [],
   "source": [
    "ax = plot_xgb_boosting_curve(eval_hist)\n",
    "ax.plot([200, 200], [.58, .68], 'k:')\n",
    "# ax.set_xlim(75, 405)\n",
    "# ax.set_ylim(.58, .68)\n",
    "\n",
    "fp = ''.join([REPORT_IMG_DIR, 'tune-est-xgb-boosting-curve.png'])\n",
    "# plt.savefig(fp, dpi=300, bbox_inches='tight') \n",
    "\n",
    "plt.show()\n",
    "\n",
    "n_estim_idx = range(0, 1000, 50)\n",
    "estim_eval = (eval_hist.iloc[n_estim_idx, [0, 2]]\n",
    "                       .assign(diff=eval_hist.iloc[n_estim_idx, 0] \n",
    "                               - eval_hist.iloc[n_estim_idx, 2])\n",
    ")\n",
    "display(estim_eval)"
   ]
  },
  {
   "cell_type": "code",
   "execution_count": null,
   "metadata": {},
   "outputs": [],
   "source": [
    "xgb_final_550 = XGBClassifier(\n",
    "    objective='multi:softprob',\n",
    "    n_estimators=550,\n",
    "    learning_rate=0.05,\n",
    "\n",
    "    max_depth=5,\n",
    "    gamma=5, \n",
    "    colsample_bytree=.8,\n",
    "\n",
    "    missing=-999, nthread=NTHREAD, seed=SEED,\n",
    ")"
   ]
  },
  {
   "cell_type": "code",
   "execution_count": null,
   "metadata": {},
   "outputs": [],
   "source": [
    "scores = cross_val_score(\n",
    "    estimator=xgb_final_550, X=X_train, y=y_train,\n",
    "    fit_params=dict(eval_metric='mlogloss'),\n",
    "    cv=5, scoring=scoring, n_jobs=N_JOBS,\n",
    ")\n",
    "y_pred = xgb_final_550.fit(X_train, y_train).predict_proba(X_train)\n",
    "\n",
    "print('Mean CV score: {:>10.4f}'.format(np.mean(scores)))\n",
    "print('Train score:   {:>10.4f}'.format(-log_loss(y_train, y_pred)))"
   ]
  },
  {
   "cell_type": "markdown",
   "metadata": {},
   "source": [
    "Output:\n",
    "```\n",
    "Mean CV score:    -0.6258\n",
    "Train score:      -0.5974\n",
    "```"
   ]
  },
  {
   "cell_type": "code",
   "execution_count": null,
   "metadata": {
    "scrolled": true
   },
   "outputs": [],
   "source": [
    "xgb_final_550.fit(X_train, y_train)\n",
    "y_pred = xgb_final_550.predict_proba(X_test)\n",
    "print('Hold-out set score: {:>10.4f} (550 estimators)'.format(-log_loss(y_test, y_pred)))"
   ]
  },
  {
   "cell_type": "markdown",
   "metadata": {},
   "source": [
    "Output:\n",
    "```\n",
    "Hold-out set score:    -0.6205 (550 estimators)\n",
    "```"
   ]
  },
  {
   "cell_type": "code",
   "execution_count": null,
   "metadata": {},
   "outputs": [],
   "source": [
    "scores = cross_val_score(\n",
    "    estimator=xgb_final_550, X=X_prepped, y=y,\n",
    "    fit_params=dict(eval_metric='mlogloss'),\n",
    "    cv=3, scoring=scoring, n_jobs=N_JOBS,\n",
    ")\n",
    "\n",
    "print('Mean CV score: {:>10.4f} (on final model training data)'\n",
    "      .format(np.mean(scores)))"
   ]
  },
  {
   "cell_type": "markdown",
   "metadata": {},
   "source": [
    "Output:\n",
    "```\n",
    "Mean CV score:    -0.6245 (on final model training data)\n",
    "```"
   ]
  },
  {
   "cell_type": "code",
   "execution_count": null,
   "metadata": {},
   "outputs": [],
   "source": [
    "submission_550_fp = ''.join([SUBM_DIR, 'udacity_final_550.csv'])\n",
    "\n",
    "xgb_final_550.fit(X_prepped, y)\n",
    "\n",
    "df_te = read_rental_interest(DF_TEST_PKL)\n",
    "X_test_subm = feature_prep(df_te, imp_constant=-999).loc[:, features]\n",
    "subm_preds = xgb_final_550.predict_proba(X_test_subm)\n",
    "\n",
    "save_submission(subm_preds, X_test_subm.index, submission_550_fp)"
   ]
  },
  {
   "cell_type": "markdown",
   "metadata": {},
   "source": [
    "Result from Kaggle: -0.6240"
   ]
  },
  {
   "cell_type": "markdown",
   "metadata": {},
   "source": [
    "## Model Justification"
   ]
  },
  {
   "cell_type": "code",
   "execution_count": null,
   "metadata": {
    "collapsed": true
   },
   "outputs": [],
   "source": [
    "# Same as spot-check data, just with missing data val -999 imputed\n",
    "\n",
    "features = [\n",
    "    'price_lg', 'bedrooms', 'bathrooms', 'latitude', 'longitude',\n",
    "    'n_photos_sq', 'n_feats_sq', 'descr_wcnt_sq',  # count aggregates\n",
    "    'day_mon', 'day_tue', 'day_wed', 'day_thu',    # day dummies\n",
    "    'day_fri', 'day_sat', 'day_sun',\n",
    "]\n",
    "\n",
    "df = read_rental_interest(DF_TRAIN_PKL)\n",
    "\n",
    "X, y = df.drop('interest_level', axis=1), df.interest_level\n",
    "\n",
    "X_prepped = feature_prep(X, imp_constant=-999).loc[:, features]\n",
    "\n",
    "X_train, X_test, y_train, y_test = train_test_split(\n",
    "    X_prepped, y, random_state=SEED, stratify=y, test_size=.25,\n",
    ")"
   ]
  },
  {
   "cell_type": "code",
   "execution_count": null,
   "metadata": {},
   "outputs": [],
   "source": [
    "fp = ''.join([REPORT_IMG_DIR, 'justification-learning-curve.png'])\n",
    "\n",
    "RUN_LEARNING_CURVE = True\n",
    "\n",
    "if RUN_LEARNING_CURVE:\n",
    "    lr_spot = joblib.load(SPOT_CHECK_LR_FP)\n",
    "    xgb_spot = joblib.load(SPOT_CHECK_XGB_FP)\n",
    "    xgb_final = joblib.load(FINAL_MODEL_FP)\n",
    "    \n",
    "    train_sizes = np.linspace(.3, 1.0, 5)\n",
    "    \n",
    "    fig, ax = plt.subplots(figsize=(6, 6))\n",
    "    title = 'Learning Curve Comparisons'\n",
    "    legend_labels = []\n",
    "    \n",
    "    start = time.time()\n",
    "    plot_learning_curve(\n",
    "        estimator=lr_spot, X=X_prepped, y=y, train_sizes=train_sizes,\n",
    "        scoring=scoring, n_jobs=N_JOBS, ax=ax,\n",
    "        train_color='#5db96b', cv_color='#37a055',  # greens\n",
    "    )\n",
    "    legend_labels += ['Train: LR Spot-check',\n",
    "                      'CV: LR Spot-check']\n",
    "    \n",
    "    plot_learning_curve(\n",
    "        estimator=xgb_spot, X=X_prepped, y=y, train_sizes=train_sizes,\n",
    "        scoring=scoring, n_jobs=N_JOBS, ax=ax, \n",
    "        train_color='#58a1cf', cv_color='#3787c0',  # blues\n",
    "    )\n",
    "    legend_labels += ['Train: XGB Spot-check',\n",
    "                      'CV: XGB Spot-check']\n",
    "    \n",
    "    plot_learning_curve(\n",
    "        estimator=xgb_final, X=X_prepped, y=y, train_sizes=train_sizes,\n",
    "        scoring=scoring, n_jobs=N_JOBS, ax=ax,\n",
    "        train_color='#f6553c', cv_color='#e32f27',  # reds\n",
    "    )\n",
    "    legend_labels += ['Train: XGB Final',\n",
    "                      'CV: XGB Final']\n",
    "    \n",
    "    end = time.time()\n",
    "    \n",
    "    print('Runtime: {}min {}s'.format(*to_min_secs(end-start)))\n",
    "    \n",
    "    plt.legend(legend_labels)\n",
    "    plt.title(title)\n",
    "    plt.ylim(top=-.5)\n",
    "    \n",
    "#     plt.savefig(fp, dpi=300, bbox_inches='tight')\n",
    "    plt.show()\n",
    "\n",
    "else:\n",
    "    display(Image(fp, width=400))"
   ]
  },
  {
   "cell_type": "markdown",
   "metadata": {},
   "source": [
    "Output:\n",
    "```\n",
    "Runtime: 2min 13s\n",
    "```"
   ]
  },
  {
   "cell_type": "markdown",
   "metadata": {},
   "source": [
    "# Conclusion"
   ]
  },
  {
   "cell_type": "markdown",
   "metadata": {},
   "source": [
    "## Free-Form Visualization\n",
    "- Same at refinement stage no. 2, less `colsample_bytree` dimension"
   ]
  },
  {
   "cell_type": "code",
   "execution_count": null,
   "metadata": {},
   "outputs": [],
   "source": [
    "RUN_XGB = True\n",
    "\n",
    "if RUN_XGB:\n",
    "    \n",
    "    # Same as for missing value evaluation\n",
    "    learning_rate = 0.05\n",
    "    n_estimators = 200\n",
    "    \n",
    "    max_depth = [3, 4, 5]\n",
    "    gamma = [0, 1, 3, 5]\n",
    "    \n",
    "    xgb_clf = XGBClassifier(\n",
    "        objective='multi:softprob',\n",
    "        n_estimators=n_estimators,\n",
    "        learning_rate=learning_rate,\n",
    "        \n",
    "        missing=-999, nthread=1, seed=SEED,\n",
    "        \n",
    "    )\n",
    "    params = dict(\n",
    "        max_depth=max_depth,\n",
    "        gamma=gamma,\n",
    "    )\n",
    "    \n",
    "    fit_params=dict(\n",
    "        early_stopping_rounds=3, \n",
    "        eval_metric='mlogloss', \n",
    "        eval_set=[(X_train, y_train), (X_test, y_test)],\n",
    "        verbose=False,\n",
    "    )\n",
    "    grid_ff = GridSearchCV(xgb_clf, params, fit_params=fit_params,\n",
    "                           scoring=scoring, cv=3, n_jobs=N_JOBS)\n",
    "\n",
    "    %timeit -r1 -n1 grid_ff.fit(X_train, y_train)\n",
    "    print()\n",
    "    \n",
    "#     joblib.dump(grid_ff, GRID_FREE_FORM_FP)\n",
    "#     print('Pickled to: {}'.format(GRID_FREE_FORM_FP))\n",
    "    \n",
    "else:\n",
    "    grid_ff = joblib.load(GRID_FREE_FORM_FP)\n",
    "    print('Loaded: {}'.format(GRID_FREE_FORM_FP))\n",
    "\n",
    "print(best_grid_score(grid_ff))    \n",
    "\n",
    "fp = ''.join([REPORT_IMG_DIR, 'free-form-grid-plot.png'])\n",
    "REPLOT = True\n",
    "if REPLOT:\n",
    "    ge = GridSearchExplorer(grid_ff)\n",
    "    fig = ge.plot_cv_train_comparison(x='max_depth')\n",
    "\n",
    "    suptitle = ('GridSearchCV Scores for XGBClassifier'\n",
    "                ' - max_depth vs. gamma')\n",
    "    plt.suptitle(suptitle, fontsize='x-large', y=1.05)\n",
    "\n",
    "#     plt.savefig(fp, dpi=300, bbox_inches='tight')\n",
    "\n",
    "    plt.tight_layout()\n",
    "else:\n",
    "    display(Image(fp, width=1000))"
   ]
  },
  {
   "cell_type": "markdown",
   "metadata": {},
   "source": [
    "Output:\n",
    "```\n",
    "Loaded: ./Models/grid_free_form.pkl\n",
    "2min 5s ± 0 ns per loop (mean ± std. dev. of 1 run, 1 loop each)\n",
    "\n",
    "Best grid CV score: -0.6262 ± 0.0023 (mean ± std. dev.)\n",
    "Train score:        -0.5777 ± 0.0022 (mean ± std. dev.)\n",
    "\n",
    "*** For parameters: ***\n",
    "gamma=1\n",
    "max_depth=5\n",
    "```"
   ]
  },
  {
   "cell_type": "markdown",
   "metadata": {},
   "source": [
    "# Feature Selection"
   ]
  },
  {
   "cell_type": "markdown",
   "metadata": {},
   "source": [
    "From [StackEx](https://datascience.stackexchange.com/questions/12318/how-do-i-interpret-the-output-of-xgboost-importance): How do i interpret the output of XGBoost importance?\n",
    "\n",
    "_Gain_: the relative contribution of the corresponding feature to the model calculated by taking each feature's contribution for each tree in the model\n",
    "- A higher value of this metric when compared to another feature implies it is more important for generating a prediction.\n",
    "- It is the most relevant attribute to interpret the relative importance of each feature.\n",
    "\n",
    "_Weight_: (or fscore) is the percentage representing the relative number of times a particular feature occurs in the trees of the model. \n",
    "- In the above example, if feature1 occurred in 2 splits, 1 split and 3 splits in each of tree1, tree2 and tree3; then the weightage for feature1 will be 2+1+3 = 6.\n",
    "- The frequency for feature1 is calculated as its percentage weight over weights of all features.\n",
    "\n",
    "_Cover_: the relative number of observations related to this feature. \n",
    "- For example, if you have 100 observations, 4 features and 3 trees, and suppose feature1 is used to decide the leaf node for 10, 5, and 2 observations in tree1, tree2 and tree3 respectively; then the metric will count cover for this feature as 10+5+2 = 17 observations. \n",
    "- This will be calculated for all the 4 features and the cover will be 17 expressed as a percentage for all features' cover metrics."
   ]
  },
  {
   "cell_type": "code",
   "execution_count": null,
   "metadata": {
    "collapsed": true
   },
   "outputs": [],
   "source": [
    "def get_xgb_imp(xgb, feat_names):\n",
    "    from numpy import array\n",
    "    imp_vals = xgb.booster().get_fscore()\n",
    "    imp_dict = {feat_names[i]:float(imp_vals.get('f'+str(i),0.)) for i in range(len(feat_names))}\n",
    "    return imp_dict\n",
    "\n",
    "imp_dict = get_xgb_imp(xgb_final, features)\n",
    "feat_by_fscore = pd.Series(imp_dict).sort_values(ascending=False).index.tolist()\n"
   ]
  },
  {
   "cell_type": "code",
   "execution_count": null,
   "metadata": {
    "scrolled": true
   },
   "outputs": [],
   "source": [
    "bst = xgb_final.booster()\n",
    "score_dict = {}\n",
    "for i, imp_type in enumerate(['gain', 'weight', 'cover'], 1):\n",
    "    \n",
    "    col_name = str(i)+'-'+imp_type  # For correct hue ordering\n",
    "    score_dict[col_name] = bst.get_score(importance_type=imp_type)\n",
    "feat_scores = (pd.DataFrame(score_dict)\n",
    "                 .apply(lambda x: x/sum(x))\n",
    "                 .sort_values('1-gain', ascending=False)\n",
    ")\n",
    "ax = feat_scores.plot(kind='bar', rot=70, figsize=(9, 4))\n",
    "ax.set_title('Relative Feature Importances Sorted by Gain')\n",
    "ax.set_xticklabels(feat_by_fscore)\n",
    "plt.show()"
   ]
  },
  {
   "cell_type": "code",
   "execution_count": null,
   "metadata": {},
   "outputs": [],
   "source": [
    "xgb_clf = XGBClassifier(\n",
    "    objective='multi:softprob',\n",
    "    learning_rate=0.1, n_estimators=120,\n",
    "    subsample=0.8, colsample_bytree=0.8,\n",
    "    missing=-999, nthread=NTHREAD, seed=SEED,\n",
    "    max_depth=6, min_child_weight=1,\n",
    ")\n",
    "\n",
    "fit_params = dict(X=X_train, y=y_train, eval_metric='mlogloss',\n",
    "                  eval_set=[(X_train, y_train), (X_test, y_test)],\n",
    "                  verbose=False,\n",
    ")\n",
    "%timeit -r1 -n1 xgb_clf.fit(**fit_params)"
   ]
  },
  {
   "cell_type": "code",
   "execution_count": null,
   "metadata": {},
   "outputs": [],
   "source": [
    "score_dict = {}\n",
    "for i, imp_type in enumerate(['gain', 'weight', 'cover'], 1):\n",
    "    \n",
    "    col_name = str(i)+'-'+imp_type  # For correct hue ordering\n",
    "    score_dict[col_name] = bst.get_score(importance_type=imp_type)\n",
    "feat_scores = (pd.DataFrame(score_dict)\n",
    "                 .apply(lambda x: x/sum(x))\n",
    "                 .sort_values('1-gain', ascending=False)\n",
    ")\n",
    "ax = feat_scores.plot(kind='bar', rot=70, figsize=(9, 4))\n",
    "ax.set_title('Relative Feature Importances')\n",
    "\n",
    "plt.show()"
   ]
  },
  {
   "cell_type": "code",
   "execution_count": null,
   "metadata": {
    "collapsed": true
   },
   "outputs": [],
   "source": [
    "raise"
   ]
  },
  {
   "cell_type": "markdown",
   "metadata": {},
   "source": [
    "# NLP"
   ]
  },
  {
   "cell_type": "markdown",
   "metadata": {},
   "source": [
    "## Description"
   ]
  },
  {
   "cell_type": "code",
   "execution_count": null,
   "metadata": {},
   "outputs": [],
   "source": [
    "words = Counter()\n",
    "\n",
    "def extract_words(feats):\n",
    "    feats = [re.sub(r'[ ]*[^\\w ][ ]*', ' ', s.upper())\n",
    "             for s in feats]\n",
    "    words = [word for s in feats for word in s.split()]\n",
    "    \n",
    "    return words"
   ]
  },
  {
   "cell_type": "code",
   "execution_count": null,
   "metadata": {
    "collapsed": true
   },
   "outputs": [],
   "source": [
    "for idx, feats in df.features.iteritems():\n",
    "    words.update(extract_words(feats))"
   ]
  },
  {
   "cell_type": "code",
   "execution_count": null,
   "metadata": {
    "collapsed": true
   },
   "outputs": [],
   "source": [
    "words.most_common()"
   ]
  },
  {
   "cell_type": "code",
   "execution_count": null,
   "metadata": {
    "collapsed": true
   },
   "outputs": [],
   "source": [
    "with open(TRAIN_FP) as f:\n",
    "    x = f.read()\n",
    "a = 10011000\n",
    "x[a:a+540]"
   ]
  },
  {
   "cell_type": "code",
   "execution_count": null,
   "metadata": {
    "collapsed": true
   },
   "outputs": [],
   "source": [
    "s = 'itness gym, laundry facility & pet-friendly'\n",
    "\n",
    "df[df.description.str.contains(s)].iat[0, 4]"
   ]
  },
  {
   "cell_type": "markdown",
   "metadata": {},
   "source": [
    "- Strip:\n",
    "    - leading spaces\n",
    "    - html tags: `<br /><br />`\n",
    "    - html entities?\n",
    "    - returns: `\\r`\n",
    "    - weird separators\n",
    "- Replace:\n",
    "    - `w/ ` to `with`\n",
    "    - `washer /dryer` and other unspaced slashes\n",
    "    - `&` to `and`\n",
    "- Separate words joined between sentences\n",
    "    - e.g. `FloorsLimed Brick WallsPrivate BalconiesIntricate`\n",
    "    - very important, lots of instances, spearate by caps\n",
    "    - not possible when all caps\n",
    "- Separate joined word without caps:\n",
    "    - `Long Island Railroad isabout a 10 `\n",
    "\n",
    "- New features:\n",
    "    - Length of description\n",
    "    - Has website (`website_redacted` or html tag)\n",
    "    - Has email\n",
    "    - Has phone number\n",
    "\n"
   ]
  }
 ],
 "metadata": {
  "anaconda-cloud": {},
  "kernelspec": {
   "display_name": "Python 3",
   "language": "python",
   "name": "python3"
  },
  "language_info": {
   "codemirror_mode": {
    "name": "ipython",
    "version": 3
   },
   "file_extension": ".py",
   "mimetype": "text/x-python",
   "name": "python",
   "nbconvert_exporter": "python",
   "pygments_lexer": "ipython3",
   "version": "3.5.3"
  },
  "toc": {
   "colors": {
    "hover_highlight": "#DAA520",
    "navigate_num": "#000000",
    "navigate_text": "#333333",
    "running_highlight": "#FF0000",
    "selected_highlight": "#FFD700",
    "sidebar_border": "#EEEEEE",
    "wrapper_background": "#FFFFFF"
   },
   "moveMenuLeft": true,
   "nav_menu": {
    "height": "239px",
    "width": "264px"
   },
   "navigate_menu": true,
   "number_sections": true,
   "sideBar": true,
   "threshold": 4,
   "toc_cell": false,
   "toc_section_display": "block",
   "toc_window_display": false,
   "widenNotebook": false
  }
 },
 "nbformat": 4,
 "nbformat_minor": 2
}
