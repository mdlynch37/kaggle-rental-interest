{
 "cells": [
  {
   "cell_type": "code",
   "execution_count": 2,
   "metadata": {
    "collapsed": true
   },
   "outputs": [],
   "source": [
    "from copy import deepcopy\n",
    "import pdb\n",
    "import warnings\n",
    "from imp import reload\n",
    "import time\n",
    "\n",
    "import pandas as pd\n",
    "import numpy as np\n",
    "\n",
    "from sklearn.model_selection import (StratifiedShuffleSplit, train_test_split,\n",
    "                                     validation_curve)\n",
    "from grid_explore import GridSearchExplorer\n",
    "from sklearn.ensemble import GradientBoostingClassifier\n",
    "from sklearn.pipeline import Pipeline, make_pipeline\n",
    "from sklearn.model_selection import GridSearchCV\n",
    "from sklearn.metrics import log_loss, make_scorer\n",
    "from sklearn.decomposition import PCA, TruncatedSVD\n",
    "from sklearn.preprocessing import LabelBinarizer, LabelEncoder\n",
    "from sklearn.ensemble import (GradientBoostingClassifier,\n",
    "                              RandomForestClassifier)\n",
    "from sklearn.base import TransformerMixin, BaseEstimator\n",
    "\n",
    "from plot_learning_curve import plot_learning_curve\n",
    "\n",
    "%matplotlib inline\n",
    "\n",
    "SEED = 42\n",
    "np.random.seed(SEED)\n",
    "\n",
    "DAT_DIR = '../Data/'\n",
    "SUBM_DIR = '../Submissions/'\n",
    "TEST_DIR = '../Tests/'\n",
    "TRAIN_FP = ''.join([DAT_DIR, 'train.json'])\n",
    "TEST_FP = ''.join([DAT_DIR, 'test.json'])\n",
    "SAMPLE_FP = ''.join([DAT_DIR, 'sample_submission.csv'])\n",
    "\n",
    "\n",
    "# # using built-in 'neg_log_loss' scoring param used for simplicity\n",
    "# # source code show exact same make_scorer call, kept for reference\n",
    "# log_loss_scorer = make_scorer(log_loss, greater_is_better=False,\n",
    "#                               needs_proba=True)\n",
    "\n",
    "SCORING = 'neg_log_loss'"
   ]
  },
  {
   "cell_type": "code",
   "execution_count": 2,
   "metadata": {
    "collapsed": true
   },
   "outputs": [],
   "source": [
    "def read_rental_interest_json(fp):\n",
    "    \"\"\"Reads Two Sigma Connect: Rental Listing Inquiries json.\"\"\"\n",
    "    \n",
    "    df = (pd.read_json(TRAIN_FP)\n",
    "          .set_index('listing_id')\n",
    "         )\n",
    "    df.created = pd.to_datetime(df.created)\n",
    "    \n",
    "    return df"
   ]
  },
  {
   "cell_type": "code",
   "execution_count": 22,
   "metadata": {
    "collapsed": true
   },
   "outputs": [],
   "source": [
    "from sklearn.preprocessing import LabelEncoder\n",
    "from sklearn.model_selection import train_test_split\n",
    "\n",
    "BASIC_FEATURES = ['bathrooms', 'bedrooms', 'price']\n",
    "TARGET =  ['interest_level']\n",
    "\n",
    "\n",
    "df = read_rental_interest_json(TRAIN_FP)\n",
    "df_ = df[BASIC_FEATURES+TARGET]\n",
    "\n",
    "y = LabelEncoder().fit_transform(df_.interest_level)\n",
    "X = df_.drop('interest_level', axis=1)\n",
    "\n",
    "X_train, X_test, y_train, y_test = (\n",
    "    train_test_split(\n",
    "        X, y, test_size=.5, stratify=df_.interest_level)\n",
    "    )"
   ]
  },
  {
   "cell_type": "code",
   "execution_count": 23,
   "metadata": {},
   "outputs": [
    {
     "name": "stdout",
     "output_type": "stream",
     "text": [
      "min: 0 (n=3218)\n",
      "med: 5.0\n",
      "max: 39\n"
     ]
    },
    {
     "data": {
      "image/png": "[encoded data removed]",
      "text/plain": [
       "<matplotlib.figure.Figure at 0x133852400>"
      ]
     },
     "metadata": {},
     "output_type": "display_data"
    }
   ],
   "source": [
    "n_feats = df.features.map(lambda x: len(x))\n",
    "plt.hist(n_feats, cumulative=True, normed=True, bins=300, align='left')\n",
    "plt.title('CDF of number of features for each listing.')\n",
    "print('min: {} (n={})\\nmed: {}\\nmax: {}'.format(\n",
    "    n_feats.min(), (n_feats==0).sum(),\n",
    "    n_feats.median(), n_feats.max()))\n",
    "# n_feats.value_counts(normalize=True).sort_index()"
   ]
  },
  {
   "cell_type": "code",
   "execution_count": 24,
   "metadata": {
    "collapsed": true
   },
   "outputs": [],
   "source": [
    "def contains_punc(criteria, feats_list, regex=False):\n",
    "    \"\"\"Checks for punctuation in feature list.\n",
    "    \n",
    "    Can be used to determine the nature of difference\n",
    "    puncuations.\n",
    "    \n",
    "    Parameters\n",
    "    ----------\n",
    "    criteria : list of str or raw/str\n",
    "        list of punctuation marks, or regex to match punctuation\n",
    "    feats_list : list\n",
    "    \n",
    "    Returns\n",
    "    -------\n",
    "    has_punc : bool\n",
    "    \"\"\"\n",
    "    \n",
    "    if regex:\n",
    "        reg = re.compile(criteria)\n",
    "    \n",
    "    # return True \n",
    "    for feat in feats_list:\n",
    "        if regex:\n",
    "            if reg.match(feat):\n",
    "                return True\n",
    "        else:\n",
    "            for s in criteria:\n",
    "                if s in feat:\n",
    "                    return True\n",
    "    \n",
    "    # if no punctuation found in list of features\n",
    "    return False"
   ]
  },
  {
   "cell_type": "code",
   "execution_count": 25,
   "metadata": {},
   "outputs": [
    {
     "data": {
      "text/plain": [
       "[('ELEVATOR', 26272),\n",
       " ('HARDWOOD FLOORS', 23558),\n",
       " ('CATS ALLOWED', 23540),\n",
       " ('DOGS ALLOWED', 22035),\n",
       " ('DOORMAN', 20966)]"
      ]
     },
     "execution_count": 25,
     "metadata": {},
     "output_type": "execute_result"
    }
   ],
   "source": [
    "from collections import Counter\n",
    "import re\n",
    "\n",
    "def extract_clean_feats(feats):\n",
    "    \"\"\"Extract and normalize each feature in list.\"\"\"\n",
    "    \n",
    "#     cleaner = lambda x: re.sub(r'[ ]*[^\\w ][ ]*', ' ', x)\n",
    "    cleaner = lambda x: x.upper().strip().replace('-', '')\n",
    "#     cleaner = lambda x: x\n",
    "    cleaned = (cleaner(feat) for feat in feats)\n",
    "    \n",
    "    return cleaned\n",
    "\n",
    "\n",
    "def count_feats(feat_col):\n",
    "    \"\"\"Extracts features from list and returns counter.\"\"\"\n",
    "    \n",
    "    cnt = Counter()\n",
    "    for _, feats in feat_col.iteritems():\n",
    "        feats = set(extract_clean_feats(feats))  # remove dupes too\n",
    "        cnt.update(feats)\n",
    "        \n",
    "    return cnt\n",
    "\n",
    "feat_cnts = count_feats(df.features)\n",
    "feat_cnts.most_common(5)"
   ]
  },
  {
   "cell_type": "code",
   "execution_count": 26,
   "metadata": {},
   "outputs": [
    {
     "data": {
      "text/html": [
       "<div>\n",
       "<table border=\"1\" class=\"dataframe\">\n",
       "  <thead>\n",
       "    <tr style=\"text-align: right;\">\n",
       "      <th></th>\n",
       "      <th>bathrooms</th>\n",
       "      <th>bedrooms</th>\n",
       "      <th>building_id</th>\n",
       "      <th>created</th>\n",
       "      <th>description</th>\n",
       "      <th>display_address</th>\n",
       "      <th>features</th>\n",
       "      <th>interest_level</th>\n",
       "      <th>latitude</th>\n",
       "      <th>longitude</th>\n",
       "      <th>manager_id</th>\n",
       "      <th>photos</th>\n",
       "      <th>price</th>\n",
       "      <th>street_address</th>\n",
       "    </tr>\n",
       "    <tr>\n",
       "      <th>listing_id</th>\n",
       "      <th></th>\n",
       "      <th></th>\n",
       "      <th></th>\n",
       "      <th></th>\n",
       "      <th></th>\n",
       "      <th></th>\n",
       "      <th></th>\n",
       "      <th></th>\n",
       "      <th></th>\n",
       "      <th></th>\n",
       "      <th></th>\n",
       "      <th></th>\n",
       "      <th></th>\n",
       "      <th></th>\n",
       "    </tr>\n",
       "  </thead>\n",
       "  <tbody>\n",
       "    <tr>\n",
       "      <th>6856770</th>\n",
       "      <td>1.0</td>\n",
       "      <td>1</td>\n",
       "      <td>56c3771d9e2a441395c646effabe40bb</td>\n",
       "      <td>2016-04-11 17:07:36</td>\n",
       "      <td>LOOK NO FURTHER\\r\\rWell maintained, pre-war bl...</td>\n",
       "      <td>midtown west</td>\n",
       "      <td>[** CLASSY CLINTON HOME * MASSIVE 1BR * GOURME...</td>\n",
       "      <td>low</td>\n",
       "      <td>40.7592</td>\n",
       "      <td>-73.9903</td>\n",
       "      <td>699c325b818541f314b691b76f3238d7</td>\n",
       "      <td>[https://photos.renthop.com/2/6856770_03902dfe...</td>\n",
       "      <td>2150</td>\n",
       "      <td>329 W 44th St</td>\n",
       "    </tr>\n",
       "    <tr>\n",
       "      <th>6856878</th>\n",
       "      <td>1.0</td>\n",
       "      <td>2</td>\n",
       "      <td>bee9bad998da3743d98f7f11ce8f749d</td>\n",
       "      <td>2016-04-11 19:42:52</td>\n",
       "      <td>LOOK NO FURTHER!!\\r\\rNO BROKER FEE!!\\r\\rMassiv...</td>\n",
       "      <td>williamsburg - NO FEE</td>\n",
       "      <td>[Common Outdoor Space, Private Outdoor Space, ...</td>\n",
       "      <td>low</td>\n",
       "      <td>40.7165</td>\n",
       "      <td>-73.9505</td>\n",
       "      <td>699c325b818541f314b691b76f3238d7</td>\n",
       "      <td>[https://photos.renthop.com/2/6856878_d4ff644d...</td>\n",
       "      <td>3500</td>\n",
       "      <td>241 Meeker Ave,</td>\n",
       "    </tr>\n",
       "  </tbody>\n",
       "</table>\n",
       "</div>"
      ],
      "text/plain": [
       "            bathrooms  bedrooms                       building_id  \\\n",
       "listing_id                                                          \n",
       "6856770           1.0         1  56c3771d9e2a441395c646effabe40bb   \n",
       "6856878           1.0         2  bee9bad998da3743d98f7f11ce8f749d   \n",
       "\n",
       "                       created  \\\n",
       "listing_id                       \n",
       "6856770    2016-04-11 17:07:36   \n",
       "6856878    2016-04-11 19:42:52   \n",
       "\n",
       "                                                  description  \\\n",
       "listing_id                                                      \n",
       "6856770     LOOK NO FURTHER\\r\\rWell maintained, pre-war bl...   \n",
       "6856878     LOOK NO FURTHER!!\\r\\rNO BROKER FEE!!\\r\\rMassiv...   \n",
       "\n",
       "                  display_address  \\\n",
       "listing_id                          \n",
       "6856770              midtown west   \n",
       "6856878     williamsburg - NO FEE   \n",
       "\n",
       "                                                     features interest_level  \\\n",
       "listing_id                                                                     \n",
       "6856770     [** CLASSY CLINTON HOME * MASSIVE 1BR * GOURME...            low   \n",
       "6856878     [Common Outdoor Space, Private Outdoor Space, ...            low   \n",
       "\n",
       "            latitude  longitude                        manager_id  \\\n",
       "listing_id                                                          \n",
       "6856770      40.7592   -73.9903  699c325b818541f314b691b76f3238d7   \n",
       "6856878      40.7165   -73.9505  699c325b818541f314b691b76f3238d7   \n",
       "\n",
       "                                                       photos  price  \\\n",
       "listing_id                                                             \n",
       "6856770     [https://photos.renthop.com/2/6856770_03902dfe...   2150   \n",
       "6856878     [https://photos.renthop.com/2/6856878_d4ff644d...   3500   \n",
       "\n",
       "              street_address  \n",
       "listing_id                    \n",
       "6856770        329 W 44th St  \n",
       "6856878     241 Meeker Ave,   "
      ]
     },
     "execution_count": 26,
     "metadata": {},
     "output_type": "execute_result"
    }
   ],
   "source": [
    "df[df.features.map(lambda x: contains_punc(['*'], x))].head(2)"
   ]
  },
  {
   "cell_type": "code",
   "execution_count": 27,
   "metadata": {},
   "outputs": [
    {
     "data": {
      "text/html": [
       "<div>\n",
       "<table border=\"1\" class=\"dataframe\">\n",
       "  <thead>\n",
       "    <tr style=\"text-align: right;\">\n",
       "      <th></th>\n",
       "      <th>!!!!LOW FEE!!!!</th>\n",
       "      <th>$1000. MOVEIN VISA GIFTCARD WILL BE HANDED TO NEW TENANTS UPON RENTAL LEASE SIGNING</th>\n",
       "      <th>$1500. MOVEIN VISA GIFTCARD WILL BE HANDED TO NEW TENANTS UPON RENTAL LEASE SIGNING</th>\n",
       "      <th>$250 APPLICATION FEE WITH BACKGROUND AND CREDIT CHECK. BOARD INTERVIEW AND APPROVAL.</th>\n",
       "      <th>$250 SECURITY DEPOSIT</th>\n",
       "      <th>$500 SECURITY DEPOSIT</th>\n",
       "      <th>$600 GIFT CARD FOR MOVEINS PRIOR TO JUNE 19</th>\n",
       "      <th>&amp; ATM MACHINE ONSITE</th>\n",
       "      <th>* MARVELOUS MIDTOWN GEM * SPACIOUS SUNDRENCHED STUDIO * STUNNING PREWAR DETAILS * CATS OK **</th>\n",
       "      <th>** ALL BRAND NEW NO FEE! * EXPANSIVE 2BR MCMANSION * PRIVATE TERRACE * COOK'S SS KITCHEN * ELEV/LNDRY BLDG * 3 BLKS TO L TRAIN **</th>\n",
       "      <th>...</th>\n",
       "      <th>XXL WINDOWS</th>\n",
       "      <th>XXLARGE STUDIO</th>\n",
       "      <th>YARD</th>\n",
       "      <th>YOGA / DANCE STUDIO</th>\n",
       "      <th>YOGA AN PILATES CLASS</th>\n",
       "      <th>YOGA AND SPIN STUDIOS</th>\n",
       "      <th>YOGA CLASSES</th>\n",
       "      <th>YOGA ROOM</th>\n",
       "      <th>YOGA STUDIO</th>\n",
       "      <th>• ONSITE LIFESTYLE CONCIERGE BY LUXURY ATTACHÉ •24/7 DOORMAN • STATE OF THE ART CARDIOVASCULAR AND WEIGHT TRAINING EQUIPMENT • 24HOUR VALET PARKING GARAGE • VALET SERVICES INCLUDING DRY CLEANING</th>\n",
       "    </tr>\n",
       "    <tr>\n",
       "      <th>listing_id</th>\n",
       "      <th></th>\n",
       "      <th></th>\n",
       "      <th></th>\n",
       "      <th></th>\n",
       "      <th></th>\n",
       "      <th></th>\n",
       "      <th></th>\n",
       "      <th></th>\n",
       "      <th></th>\n",
       "      <th></th>\n",
       "      <th></th>\n",
       "      <th></th>\n",
       "      <th></th>\n",
       "      <th></th>\n",
       "      <th></th>\n",
       "      <th></th>\n",
       "      <th></th>\n",
       "      <th></th>\n",
       "      <th></th>\n",
       "      <th></th>\n",
       "      <th></th>\n",
       "    </tr>\n",
       "  </thead>\n",
       "  <tbody>\n",
       "    <tr>\n",
       "      <th>7211212</th>\n",
       "      <td>0</td>\n",
       "      <td>0</td>\n",
       "      <td>0</td>\n",
       "      <td>0</td>\n",
       "      <td>0</td>\n",
       "      <td>0</td>\n",
       "      <td>0</td>\n",
       "      <td>0</td>\n",
       "      <td>0</td>\n",
       "      <td>0</td>\n",
       "      <td>...</td>\n",
       "      <td>0</td>\n",
       "      <td>0</td>\n",
       "      <td>0</td>\n",
       "      <td>0</td>\n",
       "      <td>0</td>\n",
       "      <td>0</td>\n",
       "      <td>0</td>\n",
       "      <td>0</td>\n",
       "      <td>0</td>\n",
       "      <td>0</td>\n",
       "    </tr>\n",
       "    <tr>\n",
       "      <th>7150865</th>\n",
       "      <td>0</td>\n",
       "      <td>0</td>\n",
       "      <td>0</td>\n",
       "      <td>0</td>\n",
       "      <td>0</td>\n",
       "      <td>0</td>\n",
       "      <td>0</td>\n",
       "      <td>0</td>\n",
       "      <td>0</td>\n",
       "      <td>0</td>\n",
       "      <td>...</td>\n",
       "      <td>0</td>\n",
       "      <td>0</td>\n",
       "      <td>0</td>\n",
       "      <td>0</td>\n",
       "      <td>0</td>\n",
       "      <td>0</td>\n",
       "      <td>0</td>\n",
       "      <td>0</td>\n",
       "      <td>0</td>\n",
       "      <td>0</td>\n",
       "    </tr>\n",
       "  </tbody>\n",
       "</table>\n",
       "<p>2 rows × 1282 columns</p>\n",
       "</div>"
      ],
      "text/plain": [
       "            !!!!LOW FEE!!!!  \\\n",
       "listing_id                    \n",
       "7211212                   0   \n",
       "7150865                   0   \n",
       "\n",
       "            $1000. MOVEIN VISA GIFTCARD WILL BE HANDED TO NEW TENANTS UPON RENTAL LEASE SIGNING  \\\n",
       "listing_id                                                                                        \n",
       "7211212                                                     0                                     \n",
       "7150865                                                     0                                     \n",
       "\n",
       "            $1500. MOVEIN VISA GIFTCARD WILL BE HANDED TO NEW TENANTS UPON RENTAL LEASE SIGNING  \\\n",
       "listing_id                                                                                        \n",
       "7211212                                                     0                                     \n",
       "7150865                                                     0                                     \n",
       "\n",
       "            $250 APPLICATION FEE WITH BACKGROUND AND CREDIT CHECK. BOARD INTERVIEW AND APPROVAL.  \\\n",
       "listing_id                                                                                         \n",
       "7211212                                                     0                                      \n",
       "7150865                                                     0                                      \n",
       "\n",
       "            $250 SECURITY DEPOSIT  $500 SECURITY DEPOSIT  \\\n",
       "listing_id                                                 \n",
       "7211212                         0                      0   \n",
       "7150865                         0                      0   \n",
       "\n",
       "            $600 GIFT CARD FOR MOVEINS PRIOR TO JUNE 19  & ATM MACHINE ONSITE  \\\n",
       "listing_id                                                                      \n",
       "7211212                                               0                     0   \n",
       "7150865                                               0                     0   \n",
       "\n",
       "            * MARVELOUS MIDTOWN GEM * SPACIOUS SUNDRENCHED STUDIO * STUNNING PREWAR DETAILS * CATS OK **  \\\n",
       "listing_id                                                                                                 \n",
       "7211212                                                     0                                              \n",
       "7150865                                                     0                                              \n",
       "\n",
       "            ** ALL BRAND NEW NO FEE! * EXPANSIVE 2BR MCMANSION * PRIVATE TERRACE * COOK'S SS KITCHEN * ELEV/LNDRY BLDG * 3 BLKS TO L TRAIN **  \\\n",
       "listing_id                                                                                                                                      \n",
       "7211212                                                     0                                                                                   \n",
       "7150865                                                     0                                                                                   \n",
       "\n",
       "                                                                                                           ...                                                                                                  \\\n",
       "listing_id                                                                                                 ...                                                                                                   \n",
       "7211212                                                                                                    ...                                                                                                   \n",
       "7150865                                                                                                    ...                                                                                                   \n",
       "\n",
       "            XXL WINDOWS  XXLARGE STUDIO  YARD  YOGA / DANCE STUDIO  \\\n",
       "listing_id                                                           \n",
       "7211212               0               0     0                    0   \n",
       "7150865               0               0     0                    0   \n",
       "\n",
       "            YOGA AN PILATES CLASS  YOGA AND SPIN STUDIOS  YOGA CLASSES  \\\n",
       "listing_id                                                               \n",
       "7211212                         0                      0             0   \n",
       "7150865                         0                      0             0   \n",
       "\n",
       "            YOGA ROOM  YOGA STUDIO  \\\n",
       "listing_id                           \n",
       "7211212             0            0   \n",
       "7150865             0            0   \n",
       "\n",
       "            • ONSITE LIFESTYLE CONCIERGE BY LUXURY ATTACHÉ •24/7 DOORMAN • STATE OF THE ART CARDIOVASCULAR AND WEIGHT TRAINING EQUIPMENT • 24HOUR VALET PARKING GARAGE • VALET SERVICES INCLUDING DRY CLEANING  \n",
       "listing_id                                                                                                                                                                                                      \n",
       "7211212                                                     0                                                                                                                                                   \n",
       "7150865                                                     0                                                                                                                                                   \n",
       "\n",
       "[2 rows x 1282 columns]"
      ]
     },
     "execution_count": 27,
     "metadata": {},
     "output_type": "execute_result"
    }
   ],
   "source": [
    "def binarize_from_list_vals(col):\n",
    "    \"\"\"Transforms Series of lists to dummy variables.\"\"\"\n",
    "    \n",
    "    SEP = '~~//'  # any value that won't be in strings in list\n",
    "\n",
    "    cleaned = col.apply(lambda x: extract_clean_feats(x))\n",
    "    dummies = cleaned.str.join(sep=SEP).str.get_dummies(sep=SEP)\n",
    "\n",
    "    return dummies\n",
    "\n",
    "feats_df = binarize_from_list_vals(df.features)\n",
    "feats_df.head(2)"
   ]
  },
  {
   "cell_type": "code",
   "execution_count": 28,
   "metadata": {},
   "outputs": [
    {
     "data": {
      "text/plain": [
       "[0.24770773350968076,\n",
       " 0.14268873655740147,\n",
       " 0.084171901765233328,\n",
       " 0.049268961596363917]"
      ]
     },
     "execution_count": 28,
     "metadata": {},
     "output_type": "execute_result"
    }
   ],
   "source": [
    "from sklearn.decomposition import PCA\n",
    "pca = PCA()\n",
    "\n",
    "feats_train = feats_df.loc[X_train.index]\n",
    "feats_test = feats_df.loc[X_test.index]\n",
    "\n",
    "pca.fit(feats_train)\n",
    "list(pca.explained_variance_ratio_[:4])"
   ]
  },
  {
   "cell_type": "code",
   "execution_count": 29,
   "metadata": {},
   "outputs": [
    {
     "data": {
      "image/png": "[encoded data removed]",
      "text/plain": [
       "<matplotlib.figure.Figure at 0x1322658d0>"
      ]
     },
     "metadata": {},
     "output_type": "display_data"
    }
   ],
   "source": [
    "plt.title('Cumulative Explained Variance for PCA')\n",
    "\n",
    "plt.plot(np.cumsum(pca.explained_variance_ratio_))\n",
    "\n",
    "plt.xlim(0, 150)\n",
    "plt.xlabel('components')\n",
    "plt.ylabel('cumulative explained variance');"
   ]
  },
  {
   "cell_type": "code",
   "execution_count": 30,
   "metadata": {
    "collapsed": true
   },
   "outputs": [],
   "source": [
    "N_COMPONENTS = 1000\n",
    "# N_COMPONENTS = len(pca.components_)\n",
    "\n",
    "cols = ['FeatComp{}'.format(i+1) for i in range(0, N_COMPONENTS)]\n",
    "\n",
    "reduced_train = pd.DataFrame(\n",
    "    pca.transform(feats_train)[:, :N_COMPONENTS], \n",
    "    columns=cols, index=feats_train.index\n",
    ")\n",
    "reduced_test  = pd.DataFrame(\n",
    "    pca.transform(feats_test)[:, :N_COMPONENTS], \n",
    "    columns=cols, index=feats_test.index\n",
    ")\n",
    "\n",
    "# allows rejoining reduced data after reprocessing\n",
    "X_train = X_train.loc[:, ~X_train.columns.isin(cols)]\n",
    "X_test  = X_test.loc[:, ~X_test.columns.isin(cols)]\n",
    "\n",
    "X_train = X_train.join(reduced_train)\n",
    "X_test  = X_test.join(reduced_test)"
   ]
  },
  {
   "cell_type": "code",
   "execution_count": 31,
   "metadata": {},
   "outputs": [
    {
     "data": {
      "text/plain": [
       "GridSearchCV(cv=None, error_score='raise',\n",
       "       estimator=Pipeline(steps=[('reducer', PCA(copy=True, iterated_power='auto', n_components=None, random_state=None,\n",
       "  svd_solver='auto', tol=0.0, whiten=False)), ('clf', GradientBoostingClassifier(criterion='friedman_mse', init=None,\n",
       "              learning_rate=0.1, loss='deviance', max_depth=3,\n",
       "              max_featur...=100, presort='auto', random_state=None,\n",
       "              subsample=1.0, verbose=0, warm_start=False))]),\n",
       "       fit_params={}, iid=True, n_jobs=4,\n",
       "       param_grid={'reducer__n_components': [50]}, pre_dispatch='2*n_jobs',\n",
       "       refit=True, return_train_score=True, scoring='neg_log_loss',\n",
       "       verbose=0)"
      ]
     },
     "execution_count": 31,
     "metadata": {},
     "output_type": "execute_result"
    }
   ],
   "source": [
    "steps = [('reducer', PCA()),\n",
    "         ('clf', GradientBoostingClassifier(min_samples_split=50))]\n",
    "pipe = Pipeline(steps=steps)\n",
    "\n",
    "params = {\n",
    "#     'reducer': [PCA()],\n",
    "    'reducer__n_components': [50],\n",
    "#     'clf__min_samples_split': [120],\n",
    "#     'clf__learning_rate': np.linspace(0.1, 0.4, 5),\n",
    "#     'clf__learning_rate': [0.05, 0.1, 0.15],\n",
    "#     'clf_max_depth': range(3, 7, 1),\n",
    "#     'pca__n_components': [10, 20, 25],\n",
    "#     'pca__n_components': [10, 40],\n",
    "#     'clf__min_samples_split': [120, 180],\n",
    "              }\n",
    "\n",
    "grid = GridSearchCV(pipe, params, scoring=SCORING, n_jobs=4)\n",
    "\n",
    "# start = time.time()\n",
    "grid.fit(feats_train.iloc[:100], y_train[:100])\n",
    "# end = time.time()"
   ]
  },
  {
   "cell_type": "code",
   "execution_count": 21,
   "metadata": {},
   "outputs": [
    {
     "data": {
      "text/plain": [
       "(49352, 14)"
      ]
     },
     "execution_count": 21,
     "metadata": {},
     "output_type": "execute_result"
    }
   ],
   "source": [
    "df.shape"
   ]
  }
 ],
 "metadata": {
  "kernelspec": {
   "display_name": "Python [default]",
   "language": "python",
   "name": "python3"
  },
  "language_info": {
   "codemirror_mode": {
    "name": "ipython",
    "version": 3
   },
   "file_extension": ".py",
   "mimetype": "text/x-python",
   "name": "python",
   "nbconvert_exporter": "python",
   "pygments_lexer": "ipython3",
   "version": "3.5.3"
  },
  "nav_menu": {},
  "toc": {
   "colors": {
    "hover_highlight": "#DAA520",
    "navigate_num": "#000000",
    "navigate_text": "#333333",
    "running_highlight": "#FF0000",
    "selected_highlight": "#FFD700",
    "sidebar_border": "#EEEEEE",
    "wrapper_background": "#FFFFFF"
   },
   "moveMenuLeft": true,
   "nav_menu": {
    "height": "12px",
    "width": "252px"
   },
   "navigate_menu": true,
   "number_sections": false,
   "sideBar": true,
   "threshold": 4,
   "toc_cell": false,
   "toc_section_display": "block",
   "toc_window_display": false,
   "widenNotebook": false
  }
 },
 "nbformat": 4,
 "nbformat_minor": 2
}
