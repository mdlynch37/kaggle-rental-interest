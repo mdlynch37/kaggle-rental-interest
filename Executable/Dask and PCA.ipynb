{
 "cells": [
  {
   "cell_type": "code",
   "execution_count": 1,
   "metadata": {
    "collapsed": false,
    "deletable": true,
    "editable": true
   },
   "outputs": [],
   "source": [
    "import random\n",
    "\n",
    "from sklearn.datasets import fetch_20newsgroups\n",
    "from dask_searchcv import GridSearchCV as DaskGridSearchCV\n",
    "from sklearn.feature_extraction.text import TfidfVectorizer\n",
    "from sklearn.model_selection import GridSearchCV\n",
    "from sklearn.pipeline import Pipeline\n",
    "from sklearn.ensemble import GradientBoostingClassifier\n",
    "from sklearn.linear_model import SGDClassifier\n",
    "from sklearn.decomposition import PCA, TruncatedSVD\n",
    "\n",
    "%matplotlib inline\n",
    "\n",
    "SEED = 42\n"
   ]
  },
  {
   "cell_type": "code",
   "execution_count": 16,
   "metadata": {
    "collapsed": false,
    "deletable": true,
    "editable": true
   },
   "outputs": [
    {
     "name": "stdout",
     "output_type": "stream",
     "text": [
      "The line_profiler extension is already loaded. To reload it, use:\n",
      "  %reload_ext line_profiler\n"
     ]
    }
   ],
   "source": [
    "%load_ext line_profiler"
   ]
  },
  {
   "cell_type": "code",
   "execution_count": 2,
   "metadata": {
    "collapsed": false,
    "deletable": true,
    "editable": true
   },
   "outputs": [
    {
     "name": "stdout",
     "output_type": "stream",
     "text": [
      "2331\n"
     ]
    }
   ],
   "source": [
    "CATEGORIES = [\n",
    "    'soc.religion.christian', 'talk.politics.guns',\n",
    "    'sci.crypt', 'sci.electronics'\n",
    "]\n",
    "\n",
    "data = fetch_20newsgroups(subset='train', categories=CATEGORIES)\n",
    "X, y = data.data, data.target\n",
    "print(len(X))"
   ]
  },
  {
   "cell_type": "code",
   "execution_count": 3,
   "metadata": {
    "collapsed": false,
    "deletable": true,
    "editable": true
   },
   "outputs": [
    {
     "name": "stdout",
     "output_type": "stream",
     "text": [
      "target_names <class 'list'> 4\n",
      "data <class 'list'> 2331\n",
      "filenames <class 'numpy.ndarray'> 2331\n",
      "target <class 'numpy.ndarray'> 2331\n",
      "DESCR <class 'NoneType'> 0\n",
      "description <class 'str'> 33\n"
     ]
    }
   ],
   "source": [
    "for key, value in data.items():\n",
    "    try:\n",
    "        len_ = len(value)\n",
    "    except TypeError:\n",
    "        len_ = 0\n",
    "    print(key, type(value), len_)"
   ]
  },
  {
   "cell_type": "code",
   "execution_count": 4,
   "metadata": {
    "collapsed": false,
    "deletable": true,
    "editable": true
   },
   "outputs": [
    {
     "data": {
      "text/plain": [
       "array([4, 0, 2, 4])"
      ]
     },
     "execution_count": 4,
     "metadata": {},
     "output_type": "execute_result"
    }
   ],
   "source": [
    "np.bincount(data.target[:10])"
   ]
  },
  {
   "cell_type": "code",
   "execution_count": null,
   "metadata": {
    "collapsed": false,
    "deletable": true,
    "editable": true
   },
   "outputs": [],
   "source": []
  },
  {
   "cell_type": "code",
   "execution_count": null,
   "metadata": {
    "collapsed": false,
    "deletable": true,
    "editable": true
   },
   "outputs": [],
   "source": [
    "\n",
    "\n",
    "\n",
    "\n",
    "\n",
    "\n"
   ]
  },
  {
   "cell_type": "code",
   "execution_count": 30,
   "metadata": {
    "collapsed": false,
    "deletable": true,
    "editable": true
   },
   "outputs": [],
   "source": [
    "N_DOCS = 200\n",
    "\n",
    "idx = np.random.choice(len(X), N_DOCS, replace=False)\n",
    "\n",
    "X_train, y_train = np.array(X)[idx], np.array(y)[idx]\n",
    "\n",
    "X_train = TfidfVectorizer().fit_transform(X_train)"
   ]
  },
  {
   "cell_type": "code",
   "execution_count": 31,
   "metadata": {
    "collapsed": false,
    "deletable": true,
    "editable": true
   },
   "outputs": [],
   "source": [
    "pipe = Pipeline([\n",
    "    ('reduce', TruncatedSVD()),\n",
    "    ('clf', SGDClassifier())\n",
    "])"
   ]
  },
  {
   "cell_type": "code",
   "execution_count": 29,
   "metadata": {
    "collapsed": false,
    "deletable": true,
    "editable": true,
    "run_control": {
     "marked": false
    }
   },
   "outputs": [
    {
     "name": "stdout",
     "output_type": "stream",
     "text": [
      "{'reduce__n_components': [50, 100, 150]}\n",
      "\n",
      "scikit-learn:\n",
      "1 loop, best of 3: 1.9 s per loop\n",
      "\n",
      "dask-searchcv:\n",
      "1 loop, best of 3: 1.74 s per loop\n"
     ]
    }
   ],
   "source": [
    "np.random.seed(SEED)\n",
    "\n",
    "reduce__n_components = [50, 100, 150]\n",
    "param_grid = dict(reduce__n_components=reduce__n_components)\n",
    "\n",
    "print(param_grid)\n",
    "print()\n",
    "print('scikit-learn:')\n",
    "%timeit grid = GridSearchCV(pipe, param_grid).fit(X_vec, y_train)\n",
    "print()\n",
    "print('dask-searchcv:')\n",
    "%timeit grid = DaskGridSearchCV(pipe, param_grid).fit(X_vec, y_train)"
   ]
  },
  {
   "cell_type": "code",
   "execution_count": 34,
   "metadata": {
    "collapsed": false,
    "deletable": true,
    "editable": true,
    "run_control": {
     "marked": false
    }
   },
   "outputs": [
    {
     "name": "stdout",
     "output_type": "stream",
     "text": [
      "{'reduce__n_components': [50, 100, 150, 50, 100, 150]}\n",
      "\n",
      "scikit-learn:\n",
      "1 loop, best of 3: 4.33 s per loop\n",
      "\n",
      "dask-searchcv:\n",
      "1 loop, best of 3: 2.05 s per loop\n"
     ]
    }
   ],
   "source": [
    "np.random.seed(SEED)\n",
    "\n",
    "reduce__n_components = [50, 100, 150] * 2\n",
    "param_grid = dict(reduce__n_components=reduce__n_components)\n",
    "\n",
    "print(param_grid)\n",
    "print()\n",
    "print('scikit-learn:')\n",
    "%timeit grid = GridSearchCV(pipe, param_grid).fit(X_vec, y_train)\n",
    "print()\n",
    "print('dask-searchcv:')\n",
    "%timeit grid = DaskGridSearchCV(pipe, param_grid).fit(X_vec, y_train)"
   ]
  },
  {
   "cell_type": "code",
   "execution_count": 33,
   "metadata": {
    "collapsed": false,
    "deletable": true,
    "editable": true,
    "run_control": {
     "marked": false
    }
   },
   "outputs": [
    {
     "name": "stdout",
     "output_type": "stream",
     "text": [
      "{'reduce__n_components': [500, 1000, 1500]}\n",
      "\n",
      "scikit-learn:\n",
      "1 loop, best of 3: 11.9 s per loop\n",
      "\n",
      "dask-searchcv:\n",
      "1 loop, best of 3: 9.3 s per loop\n"
     ]
    }
   ],
   "source": [
    "np.random.seed(SEED)\n",
    "\n",
    "reduce__n_components = [500, 1000, 1500]\n",
    "param_grid = dict(reduce__n_components=reduce__n_components)\n",
    "\n",
    "print(param_grid)\n",
    "print()\n",
    "print('scikit-learn:')\n",
    "%timeit grid = GridSearchCV(pipe, param_grid).fit(X_vec, y_train)\n",
    "print()\n",
    "print('dask-searchcv:')\n",
    "%timeit grid = DaskGridSearchCV(pipe, param_grid).fit(X_vec, y_train)"
   ]
  },
  {
   "cell_type": "code",
   "execution_count": 37,
   "metadata": {
    "collapsed": false,
    "deletable": true,
    "editable": true
   },
   "outputs": [
    {
     "name": "stdout",
     "output_type": "stream",
     "text": [
      "{'reduce__n_components': [50, 100, 150]}\n",
      " "
     ]
    }
   ],
   "source": [
    "np.random.seed(SEED)\n",
    "\n",
    "reduce__n_components = [50, 100, 150]\n",
    "param_grid = dict(reduce__n_components=reduce__n_components)\n",
    "\n",
    "print(param_grid)\n",
    "prun = %prun -r GridSearchCV(pipe, param_grid).fit(X_vec, y_train)"
   ]
  }
 ],
 "metadata": {
  "kernelspec": {
   "display_name": "Python [default]",
   "language": "python",
   "name": "python3"
  },
  "language_info": {
   "codemirror_mode": {
    "name": "ipython",
    "version": 3
   },
   "file_extension": ".py",
   "mimetype": "text/x-python",
   "name": "python",
   "nbconvert_exporter": "python",
   "pygments_lexer": "ipython3",
   "version": "3.5.3"
  },
  "nav_menu": {},
  "toc": {
   "navigate_menu": true,
   "number_sections": false,
   "sideBar": true,
   "threshold": 6,
   "toc_cell": false,
   "toc_section_display": "block",
   "toc_window_display": false
  }
 },
 "nbformat": 4,
 "nbformat_minor": 2
}
